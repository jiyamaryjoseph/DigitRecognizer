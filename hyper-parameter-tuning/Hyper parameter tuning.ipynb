{
 "cells": [
  {
   "cell_type": "code",
   "execution_count": 1,
   "id": "1b0f9df4",
   "metadata": {},
   "outputs": [
    {
     "data": {
      "text/html": [
       "<div>\n",
       "<style scoped>\n",
       "    .dataframe tbody tr th:only-of-type {\n",
       "        vertical-align: middle;\n",
       "    }\n",
       "\n",
       "    .dataframe tbody tr th {\n",
       "        vertical-align: top;\n",
       "    }\n",
       "\n",
       "    .dataframe thead th {\n",
       "        text-align: right;\n",
       "    }\n",
       "</style>\n",
       "<table border=\"1\" class=\"dataframe\">\n",
       "  <thead>\n",
       "    <tr style=\"text-align: right;\">\n",
       "      <th></th>\n",
       "      <th>Pregnancies</th>\n",
       "      <th>Glucose</th>\n",
       "      <th>BloodPressure</th>\n",
       "      <th>SkinThickness</th>\n",
       "      <th>Insulin</th>\n",
       "      <th>BMI</th>\n",
       "      <th>DiabetesPedigreeFunction</th>\n",
       "      <th>Age</th>\n",
       "      <th>Outcome</th>\n",
       "    </tr>\n",
       "  </thead>\n",
       "  <tbody>\n",
       "    <tr>\n",
       "      <th>0</th>\n",
       "      <td>6</td>\n",
       "      <td>148</td>\n",
       "      <td>72</td>\n",
       "      <td>35</td>\n",
       "      <td>0</td>\n",
       "      <td>33.6</td>\n",
       "      <td>0.627</td>\n",
       "      <td>50</td>\n",
       "      <td>1</td>\n",
       "    </tr>\n",
       "    <tr>\n",
       "      <th>1</th>\n",
       "      <td>1</td>\n",
       "      <td>85</td>\n",
       "      <td>66</td>\n",
       "      <td>29</td>\n",
       "      <td>0</td>\n",
       "      <td>26.6</td>\n",
       "      <td>0.351</td>\n",
       "      <td>31</td>\n",
       "      <td>0</td>\n",
       "    </tr>\n",
       "    <tr>\n",
       "      <th>2</th>\n",
       "      <td>8</td>\n",
       "      <td>183</td>\n",
       "      <td>64</td>\n",
       "      <td>0</td>\n",
       "      <td>0</td>\n",
       "      <td>23.3</td>\n",
       "      <td>0.672</td>\n",
       "      <td>32</td>\n",
       "      <td>1</td>\n",
       "    </tr>\n",
       "    <tr>\n",
       "      <th>3</th>\n",
       "      <td>1</td>\n",
       "      <td>89</td>\n",
       "      <td>66</td>\n",
       "      <td>23</td>\n",
       "      <td>94</td>\n",
       "      <td>28.1</td>\n",
       "      <td>0.167</td>\n",
       "      <td>21</td>\n",
       "      <td>0</td>\n",
       "    </tr>\n",
       "    <tr>\n",
       "      <th>4</th>\n",
       "      <td>0</td>\n",
       "      <td>137</td>\n",
       "      <td>40</td>\n",
       "      <td>35</td>\n",
       "      <td>168</td>\n",
       "      <td>43.1</td>\n",
       "      <td>2.288</td>\n",
       "      <td>33</td>\n",
       "      <td>1</td>\n",
       "    </tr>\n",
       "  </tbody>\n",
       "</table>\n",
       "</div>"
      ],
      "text/plain": [
       "   Pregnancies  Glucose  BloodPressure  SkinThickness  Insulin   BMI  \\\n",
       "0            6      148             72             35        0  33.6   \n",
       "1            1       85             66             29        0  26.6   \n",
       "2            8      183             64              0        0  23.3   \n",
       "3            1       89             66             23       94  28.1   \n",
       "4            0      137             40             35      168  43.1   \n",
       "\n",
       "   DiabetesPedigreeFunction  Age  Outcome  \n",
       "0                     0.627   50        1  \n",
       "1                     0.351   31        0  \n",
       "2                     0.672   32        1  \n",
       "3                     0.167   21        0  \n",
       "4                     2.288   33        1  "
      ]
     },
     "execution_count": 1,
     "metadata": {},
     "output_type": "execute_result"
    }
   ],
   "source": [
    "import pandas as pd\n",
    "df=pd.read_csv('D:\\\\data\\\\diabetics.csv')\n",
    "df.head()"
   ]
  },
  {
   "cell_type": "code",
   "execution_count": 2,
   "id": "2c3465e7",
   "metadata": {},
   "outputs": [],
   "source": [
    "import numpy as np"
   ]
  },
  {
   "cell_type": "code",
   "execution_count": 3,
   "id": "3cbd074e",
   "metadata": {},
   "outputs": [],
   "source": [
    "import warnings\n",
    "warnings.filterwarnings('ignore')"
   ]
  },
  {
   "cell_type": "code",
   "execution_count": 4,
   "id": "e7835d2a",
   "metadata": {},
   "outputs": [
    {
     "data": {
      "text/plain": [
       "Pregnancies                 111\n",
       "Glucose                       5\n",
       "BloodPressure                35\n",
       "SkinThickness               227\n",
       "Insulin                     374\n",
       "BMI                          11\n",
       "DiabetesPedigreeFunction      0\n",
       "Age                           0\n",
       "Outcome                     500\n",
       "dtype: int64"
      ]
     },
     "execution_count": 4,
     "metadata": {},
     "output_type": "execute_result"
    }
   ],
   "source": [
    "(df==0).sum()"
   ]
  },
  {
   "cell_type": "code",
   "execution_count": 5,
   "id": "ba7a6794",
   "metadata": {},
   "outputs": [
    {
     "data": {
      "text/plain": [
       "Pregnancies                 111\n",
       "Glucose                       0\n",
       "BloodPressure                35\n",
       "SkinThickness               227\n",
       "Insulin                     374\n",
       "BMI                          11\n",
       "DiabetesPedigreeFunction      0\n",
       "Age                           0\n",
       "Outcome                     500\n",
       "dtype: int64"
      ]
     },
     "execution_count": 5,
     "metadata": {},
     "output_type": "execute_result"
    }
   ],
   "source": [
    "#GM=df['Glucose'].median()\n",
    "#df['Glucose']=df['Glucose'].replace(0,GM)\n",
    "df['Glucose']=np.where(df['Glucose']==0,df['Glucose'].median(),df['Glucose'])\n",
    "#df['Insulin']=np.where(df['Insulin']==0,df['Insulin'].median(),df['Insulin'])\n",
    "#df['SkinThickness']=np.where(df['SkinThickness']==0,df['SkinThickness'].median(),df['SkinThickness'])\n",
    "#df['BloodPressure']=np.where(df['BloodPressure']==0,df['BloodPressure'].median(),df['BloodPressure'])\n",
    "#df['BMI']=np.where(df['BMI']==0,df['BMI'].median(),df['BMI'])\n",
    "\n",
    "(df==0).sum()"
   ]
  },
  {
   "cell_type": "code",
   "execution_count": 6,
   "id": "7ef1bd94",
   "metadata": {},
   "outputs": [
    {
     "data": {
      "text/html": [
       "<div>\n",
       "<style scoped>\n",
       "    .dataframe tbody tr th:only-of-type {\n",
       "        vertical-align: middle;\n",
       "    }\n",
       "\n",
       "    .dataframe tbody tr th {\n",
       "        vertical-align: top;\n",
       "    }\n",
       "\n",
       "    .dataframe thead th {\n",
       "        text-align: right;\n",
       "    }\n",
       "</style>\n",
       "<table border=\"1\" class=\"dataframe\">\n",
       "  <thead>\n",
       "    <tr style=\"text-align: right;\">\n",
       "      <th></th>\n",
       "      <th>Pregnancies</th>\n",
       "      <th>Glucose</th>\n",
       "      <th>BloodPressure</th>\n",
       "      <th>SkinThickness</th>\n",
       "      <th>Insulin</th>\n",
       "      <th>BMI</th>\n",
       "      <th>DiabetesPedigreeFunction</th>\n",
       "      <th>Age</th>\n",
       "      <th>Outcome</th>\n",
       "    </tr>\n",
       "  </thead>\n",
       "  <tbody>\n",
       "    <tr>\n",
       "      <th>0</th>\n",
       "      <td>6</td>\n",
       "      <td>148.0</td>\n",
       "      <td>72</td>\n",
       "      <td>35</td>\n",
       "      <td>0</td>\n",
       "      <td>33.6</td>\n",
       "      <td>0.627</td>\n",
       "      <td>50</td>\n",
       "      <td>1</td>\n",
       "    </tr>\n",
       "    <tr>\n",
       "      <th>1</th>\n",
       "      <td>1</td>\n",
       "      <td>85.0</td>\n",
       "      <td>66</td>\n",
       "      <td>29</td>\n",
       "      <td>0</td>\n",
       "      <td>26.6</td>\n",
       "      <td>0.351</td>\n",
       "      <td>31</td>\n",
       "      <td>0</td>\n",
       "    </tr>\n",
       "    <tr>\n",
       "      <th>2</th>\n",
       "      <td>8</td>\n",
       "      <td>183.0</td>\n",
       "      <td>64</td>\n",
       "      <td>0</td>\n",
       "      <td>0</td>\n",
       "      <td>23.3</td>\n",
       "      <td>0.672</td>\n",
       "      <td>32</td>\n",
       "      <td>1</td>\n",
       "    </tr>\n",
       "    <tr>\n",
       "      <th>3</th>\n",
       "      <td>1</td>\n",
       "      <td>89.0</td>\n",
       "      <td>66</td>\n",
       "      <td>23</td>\n",
       "      <td>94</td>\n",
       "      <td>28.1</td>\n",
       "      <td>0.167</td>\n",
       "      <td>21</td>\n",
       "      <td>0</td>\n",
       "    </tr>\n",
       "    <tr>\n",
       "      <th>4</th>\n",
       "      <td>0</td>\n",
       "      <td>137.0</td>\n",
       "      <td>40</td>\n",
       "      <td>35</td>\n",
       "      <td>168</td>\n",
       "      <td>43.1</td>\n",
       "      <td>2.288</td>\n",
       "      <td>33</td>\n",
       "      <td>1</td>\n",
       "    </tr>\n",
       "  </tbody>\n",
       "</table>\n",
       "</div>"
      ],
      "text/plain": [
       "   Pregnancies  Glucose  BloodPressure  SkinThickness  Insulin   BMI  \\\n",
       "0            6    148.0             72             35        0  33.6   \n",
       "1            1     85.0             66             29        0  26.6   \n",
       "2            8    183.0             64              0        0  23.3   \n",
       "3            1     89.0             66             23       94  28.1   \n",
       "4            0    137.0             40             35      168  43.1   \n",
       "\n",
       "   DiabetesPedigreeFunction  Age  Outcome  \n",
       "0                     0.627   50        1  \n",
       "1                     0.351   31        0  \n",
       "2                     0.672   32        1  \n",
       "3                     0.167   21        0  \n",
       "4                     2.288   33        1  "
      ]
     },
     "execution_count": 6,
     "metadata": {},
     "output_type": "execute_result"
    }
   ],
   "source": [
    "df.head()"
   ]
  },
  {
   "cell_type": "code",
   "execution_count": 7,
   "id": "b4ea4698",
   "metadata": {},
   "outputs": [
    {
     "data": {
      "text/html": [
       "<div>\n",
       "<style scoped>\n",
       "    .dataframe tbody tr th:only-of-type {\n",
       "        vertical-align: middle;\n",
       "    }\n",
       "\n",
       "    .dataframe tbody tr th {\n",
       "        vertical-align: top;\n",
       "    }\n",
       "\n",
       "    .dataframe thead th {\n",
       "        text-align: right;\n",
       "    }\n",
       "</style>\n",
       "<table border=\"1\" class=\"dataframe\">\n",
       "  <thead>\n",
       "    <tr style=\"text-align: right;\">\n",
       "      <th></th>\n",
       "      <th>Pregnancies</th>\n",
       "      <th>Glucose</th>\n",
       "      <th>BloodPressure</th>\n",
       "      <th>SkinThickness</th>\n",
       "      <th>Insulin</th>\n",
       "      <th>BMI</th>\n",
       "      <th>DiabetesPedigreeFunction</th>\n",
       "      <th>Age</th>\n",
       "    </tr>\n",
       "  </thead>\n",
       "  <tbody>\n",
       "    <tr>\n",
       "      <th>0</th>\n",
       "      <td>6</td>\n",
       "      <td>148.0</td>\n",
       "      <td>72</td>\n",
       "      <td>35</td>\n",
       "      <td>0</td>\n",
       "      <td>33.6</td>\n",
       "      <td>0.627</td>\n",
       "      <td>50</td>\n",
       "    </tr>\n",
       "    <tr>\n",
       "      <th>1</th>\n",
       "      <td>1</td>\n",
       "      <td>85.0</td>\n",
       "      <td>66</td>\n",
       "      <td>29</td>\n",
       "      <td>0</td>\n",
       "      <td>26.6</td>\n",
       "      <td>0.351</td>\n",
       "      <td>31</td>\n",
       "    </tr>\n",
       "    <tr>\n",
       "      <th>2</th>\n",
       "      <td>8</td>\n",
       "      <td>183.0</td>\n",
       "      <td>64</td>\n",
       "      <td>0</td>\n",
       "      <td>0</td>\n",
       "      <td>23.3</td>\n",
       "      <td>0.672</td>\n",
       "      <td>32</td>\n",
       "    </tr>\n",
       "    <tr>\n",
       "      <th>3</th>\n",
       "      <td>1</td>\n",
       "      <td>89.0</td>\n",
       "      <td>66</td>\n",
       "      <td>23</td>\n",
       "      <td>94</td>\n",
       "      <td>28.1</td>\n",
       "      <td>0.167</td>\n",
       "      <td>21</td>\n",
       "    </tr>\n",
       "    <tr>\n",
       "      <th>4</th>\n",
       "      <td>0</td>\n",
       "      <td>137.0</td>\n",
       "      <td>40</td>\n",
       "      <td>35</td>\n",
       "      <td>168</td>\n",
       "      <td>43.1</td>\n",
       "      <td>2.288</td>\n",
       "      <td>33</td>\n",
       "    </tr>\n",
       "  </tbody>\n",
       "</table>\n",
       "</div>"
      ],
      "text/plain": [
       "   Pregnancies  Glucose  BloodPressure  SkinThickness  Insulin   BMI  \\\n",
       "0            6    148.0             72             35        0  33.6   \n",
       "1            1     85.0             66             29        0  26.6   \n",
       "2            8    183.0             64              0        0  23.3   \n",
       "3            1     89.0             66             23       94  28.1   \n",
       "4            0    137.0             40             35      168  43.1   \n",
       "\n",
       "   DiabetesPedigreeFunction  Age  \n",
       "0                     0.627   50  \n",
       "1                     0.351   31  \n",
       "2                     0.672   32  \n",
       "3                     0.167   21  \n",
       "4                     2.288   33  "
      ]
     },
     "execution_count": 7,
     "metadata": {},
     "output_type": "execute_result"
    }
   ],
   "source": [
    "X=df.drop(['Outcome'],axis=1)\n",
    "X.head()"
   ]
  },
  {
   "cell_type": "code",
   "execution_count": 8,
   "id": "02177ecc",
   "metadata": {},
   "outputs": [
    {
     "data": {
      "text/plain": [
       "0    1\n",
       "1    0\n",
       "2    1\n",
       "3    0\n",
       "4    1\n",
       "Name: Outcome, dtype: int64"
      ]
     },
     "execution_count": 8,
     "metadata": {},
     "output_type": "execute_result"
    }
   ],
   "source": [
    "y=df.Outcome\n",
    "y.head()"
   ]
  },
  {
   "cell_type": "code",
   "execution_count": 9,
   "id": "9d409df2",
   "metadata": {},
   "outputs": [],
   "source": [
    "from sklearn.model_selection import train_test_split\n",
    "X_train,X_test,y_train,y_test =train_test_split(X,y,test_size=.2,random_state=33)"
   ]
  },
  {
   "cell_type": "code",
   "execution_count": 10,
   "id": "2a6c3004",
   "metadata": {},
   "outputs": [],
   "source": [
    "from sklearn.ensemble import RandomForestClassifier\n",
    "r_cl=RandomForestClassifier(n_estimators=10).fit(X_train,y_train)\n",
    "prediction=r_cl.predict(X_test)"
   ]
  },
  {
   "cell_type": "code",
   "execution_count": 11,
   "id": "9fde47a8",
   "metadata": {},
   "outputs": [
    {
     "name": "stdout",
     "output_type": "stream",
     "text": [
      "[[85 14]\n",
      " [26 29]]\n"
     ]
    }
   ],
   "source": [
    "from sklearn.metrics import confusion_matrix,accuracy_score,classification_report\n",
    "print(confusion_matrix(y_test,prediction))\n"
   ]
  },
  {
   "cell_type": "code",
   "execution_count": 12,
   "id": "9613630f",
   "metadata": {},
   "outputs": [
    {
     "name": "stdout",
     "output_type": "stream",
     "text": [
      "0.7402597402597403\n"
     ]
    }
   ],
   "source": [
    "print(accuracy_score(y_test,prediction))\n"
   ]
  },
  {
   "cell_type": "code",
   "execution_count": 13,
   "id": "16e1959b",
   "metadata": {},
   "outputs": [
    {
     "name": "stdout",
     "output_type": "stream",
     "text": [
      "              precision    recall  f1-score   support\n",
      "\n",
      "           0       0.77      0.86      0.81        99\n",
      "           1       0.67      0.53      0.59        55\n",
      "\n",
      "    accuracy                           0.74       154\n",
      "   macro avg       0.72      0.69      0.70       154\n",
      "weighted avg       0.73      0.74      0.73       154\n",
      "\n"
     ]
    }
   ],
   "source": [
    "print(classification_report(y_test,prediction))"
   ]
  },
  {
   "cell_type": "markdown",
   "id": "f4e6f4c2",
   "metadata": {},
   "source": [
    "## RandomizedSearchCV"
   ]
  },
  {
   "cell_type": "code",
   "execution_count": 14,
   "id": "e5ff120b",
   "metadata": {},
   "outputs": [],
   "source": [
    "##Randomly select for finding hyperparams \n",
    "import numpy as np\n",
    "from sklearn.model_selection import RandomizedSearchCV\n",
    "model=RandomForestClassifier()"
   ]
  },
  {
   "cell_type": "code",
   "execution_count": 15,
   "id": "ac250c78",
   "metadata": {},
   "outputs": [
    {
     "data": {
      "text/plain": [
       "[200, 400, 600, 800, 1000, 1200, 1400, 1600, 1800, 2000]"
      ]
     },
     "execution_count": 15,
     "metadata": {},
     "output_type": "execute_result"
    }
   ],
   "source": [
    "[int(x) for x in np.linspace(start=200,stop=2000,num=10)]"
   ]
  },
  {
   "cell_type": "code",
   "execution_count": 16,
   "id": "ef5278b3",
   "metadata": {},
   "outputs": [],
   "source": [
    "\n",
    "# number of trees in random forest\n",
    "n_estimators=[int(x) for x in np.linspace(start=100,stop=2000,num=10)]\n",
    "#number of features to consider at every split\n",
    "max_features=[\"auto\", \"sqrt\", \"log2\"]\n",
    "##max number of level in tree\n",
    "max_depth=[int(x) for x in np.linspace(10,1000,10)]\n",
    "##minimum number of sample to split a node\n",
    "min_samples_split=[1,2,3,4,5,7,9]\n",
    "#minimum number of samples to split a each leaf node\n",
    "min_samples_leaf=[1,2,4,6,8]\n",
    "#create random grid\n",
    "random_grid={\n",
    "    \"n_estimators\":n_estimators,\n",
    "    \"max_features\":max_features,\n",
    "    \"max_depth\":max_depth,\n",
    "    \"min_samples_split\":min_samples_split,\n",
    "    \"min_samples_leaf\":min_samples_leaf,\n",
    "    'criterion':['gini', \"entropy\"]\n",
    "    \n",
    "}"
   ]
  },
  {
   "cell_type": "code",
   "execution_count": 17,
   "id": "fc7f2b89",
   "metadata": {},
   "outputs": [
    {
     "data": {
      "text/plain": [
       "RandomizedSearchCV(cv=3, estimator=RandomForestClassifier(), n_iter=100,\n",
       "                   n_jobs=-1,\n",
       "                   param_distributions={'criterion': ['gini', 'entropy'],\n",
       "                                        'max_depth': [10, 120, 230, 340, 450,\n",
       "                                                      560, 670, 780, 890,\n",
       "                                                      1000],\n",
       "                                        'max_features': ['auto', 'sqrt',\n",
       "                                                         'log2'],\n",
       "                                        'min_samples_leaf': [1, 2, 4, 6, 8],\n",
       "                                        'min_samples_split': [1, 2, 3, 4, 5, 7,\n",
       "                                                              9],\n",
       "                                        'n_estimators': [100, 311, 522, 733,\n",
       "                                                         944, 1155, 1366, 1577,\n",
       "                                                         1788, 2000]},\n",
       "                   random_state=100)"
      ]
     },
     "execution_count": 17,
     "metadata": {},
     "output_type": "execute_result"
    }
   ],
   "source": [
    "randm_cv=RandomizedSearchCV(estimator=RandomForestClassifier(),param_distributions=random_grid,n_iter=100,cv=3,random_state=100,n_jobs=-1)\n",
    "randm_cv.fit(X_train,y_train)\n"
   ]
  },
  {
   "cell_type": "code",
   "execution_count": 18,
   "id": "895fba58",
   "metadata": {},
   "outputs": [
    {
     "data": {
      "text/plain": [
       "{'n_estimators': 733,\n",
       " 'min_samples_split': 9,\n",
       " 'min_samples_leaf': 1,\n",
       " 'max_features': 'auto',\n",
       " 'max_depth': 340,\n",
       " 'criterion': 'gini'}"
      ]
     },
     "execution_count": 18,
     "metadata": {},
     "output_type": "execute_result"
    }
   ],
   "source": [
    "randm_cv.best_params_"
   ]
  },
  {
   "cell_type": "code",
   "execution_count": 19,
   "id": "e3861e01",
   "metadata": {},
   "outputs": [],
   "source": [
    "best_random_grid=randm_cv.best_estimator_"
   ]
  },
  {
   "cell_type": "code",
   "execution_count": 20,
   "id": "6b18f41f",
   "metadata": {},
   "outputs": [
    {
     "name": "stdout",
     "output_type": "stream",
     "text": [
      "[[85 14]\n",
      " [24 31]]\n",
      "0.7532467532467533\n"
     ]
    }
   ],
   "source": [
    "predicton_randomgrid=best_random_grid.predict(X_test)\n",
    "print(confusion_matrix(y_test,predicton_randomgrid))\n",
    "print(accuracy_score(y_test,predicton_randomgrid))"
   ]
  },
  {
   "cell_type": "markdown",
   "id": "2d85dce2",
   "metadata": {},
   "source": [
    "## GridsearcCV"
   ]
  },
  {
   "cell_type": "code",
   "execution_count": 21,
   "id": "8e601250",
   "metadata": {},
   "outputs": [
    {
     "name": "stdout",
     "output_type": "stream",
     "text": [
      "{'n_estimators': [933, 633, 733, 833, 933], 'max_features': ['auto'], 'max_depth': [340], 'min_samples_split': [11, 10, 7, 8], 'min_samples_leaf': [1, 3, 5], 'criterion': ['gini']}\n"
     ]
    }
   ],
   "source": [
    "from sklearn.model_selection import GridSearchCV\n",
    "params={\n",
    "    \"n_estimators\":[randm_cv.best_params_['n_estimators']+200,\n",
    "                   randm_cv.best_params_['n_estimators']-100,\n",
    "                   randm_cv.best_params_['n_estimators'],\n",
    "                   randm_cv.best_params_['n_estimators']+100,\n",
    "                   randm_cv.best_params_['n_estimators']+200],\n",
    "    \"max_features\":[randm_cv.best_params_['max_features']],\n",
    "    \"max_depth\":[randm_cv.best_params_['max_depth']],\n",
    "    \"min_samples_split\":[randm_cv.best_params_['min_samples_split']+2,\n",
    "                         randm_cv.best_params_['min_samples_split']+1,\n",
    "                         randm_cv.best_params_['min_samples_split']-2,\n",
    "                         randm_cv.best_params_['min_samples_split']-1],\n",
    "    \"min_samples_leaf\":[randm_cv.best_params_['min_samples_leaf'],\n",
    "                        randm_cv.best_params_['min_samples_leaf']+2,\n",
    "                        randm_cv.best_params_['min_samples_leaf']+4],\n",
    "    'criterion':[randm_cv.best_params_['criterion']]\n",
    "         }\n",
    "print(params)"
   ]
  },
  {
   "cell_type": "code",
   "execution_count": 22,
   "id": "0e080ac1",
   "metadata": {},
   "outputs": [
    {
     "data": {
      "text/plain": [
       "60"
      ]
     },
     "execution_count": 22,
     "metadata": {},
     "output_type": "execute_result"
    }
   ],
   "source": [
    "5*1*1*4*3*1#iteration we should take"
   ]
  },
  {
   "cell_type": "code",
   "execution_count": 23,
   "id": "c989c0a9",
   "metadata": {},
   "outputs": [
    {
     "name": "stdout",
     "output_type": "stream",
     "text": [
      "Fitting 10 folds for each of 60 candidates, totalling 600 fits\n"
     ]
    },
    {
     "data": {
      "text/plain": [
       "GridSearchCV(cv=10, estimator=RandomForestClassifier(), n_jobs=-1,\n",
       "             param_grid={'criterion': ['gini'], 'max_depth': [340],\n",
       "                         'max_features': ['auto'],\n",
       "                         'min_samples_leaf': [1, 3, 5],\n",
       "                         'min_samples_split': [11, 10, 7, 8],\n",
       "                         'n_estimators': [933, 633, 733, 833, 933]},\n",
       "             verbose=2)"
      ]
     },
     "execution_count": 23,
     "metadata": {},
     "output_type": "execute_result"
    }
   ],
   "source": [
    "gcv=GridSearchCV(estimator=RandomForestClassifier(),param_grid=params,cv=10,n_jobs=-1,verbose=2)\n",
    "gcv.fit(X_train,y_train)"
   ]
  },
  {
   "cell_type": "code",
   "execution_count": 24,
   "id": "a7c04de4",
   "metadata": {},
   "outputs": [
    {
     "data": {
      "text/plain": [
       "{'criterion': 'gini',\n",
       " 'max_depth': 340,\n",
       " 'max_features': 'auto',\n",
       " 'min_samples_leaf': 5,\n",
       " 'min_samples_split': 10,\n",
       " 'n_estimators': 633}"
      ]
     },
     "execution_count": 24,
     "metadata": {},
     "output_type": "execute_result"
    }
   ],
   "source": [
    "gcv.best_params_"
   ]
  },
  {
   "cell_type": "code",
   "execution_count": 25,
   "id": "3b3d3b33",
   "metadata": {},
   "outputs": [],
   "source": [
    "best_grid_cv=gcv.best_estimator_"
   ]
  },
  {
   "cell_type": "code",
   "execution_count": 26,
   "id": "ff122c40",
   "metadata": {},
   "outputs": [],
   "source": [
    "gcv_prediction=best_grid_cv.predict(X_test)"
   ]
  },
  {
   "cell_type": "code",
   "execution_count": 27,
   "id": "d016888d",
   "metadata": {},
   "outputs": [
    {
     "name": "stdout",
     "output_type": "stream",
     "text": [
      "[[87 12]\n",
      " [26 29]]\n"
     ]
    }
   ],
   "source": [
    "print(confusion_matrix(y_test,gcv_prediction))"
   ]
  },
  {
   "cell_type": "code",
   "execution_count": 28,
   "id": "faaa7ab5",
   "metadata": {},
   "outputs": [
    {
     "name": "stdout",
     "output_type": "stream",
     "text": [
      "0.7532467532467533\n"
     ]
    }
   ],
   "source": [
    "print(accuracy_score(y_test,gcv_prediction))"
   ]
  },
  {
   "cell_type": "markdown",
   "id": "e23c102c",
   "metadata": {},
   "source": [
    "## Baysian Optimization"
   ]
  },
  {
   "cell_type": "code",
   "execution_count": 29,
   "id": "72447001",
   "metadata": {},
   "outputs": [],
   "source": [
    "from hyperopt import hp,fmin,tpe,STATUS_OK,Trials"
   ]
  },
  {
   "cell_type": "code",
   "execution_count": 30,
   "id": "95beaf40",
   "metadata": {},
   "outputs": [
    {
     "data": {
      "text/plain": [
       "{'criterion': <hyperopt.pyll.base.Apply at 0x220270bcdf0>,\n",
       " 'max_depth': <hyperopt.pyll.base.Apply at 0x220270bcf70>,\n",
       " 'max_features': <hyperopt.pyll.base.Apply at 0x220270c0040>,\n",
       " 'min_samples_leaf': <hyperopt.pyll.base.Apply at 0x220270c0220>,\n",
       " 'min_samples_split': <hyperopt.pyll.base.Apply at 0x220270c0370>,\n",
       " 'n_estimators': <hyperopt.pyll.base.Apply at 0x220270c0490>}"
      ]
     },
     "execution_count": 30,
     "metadata": {},
     "output_type": "execute_result"
    }
   ],
   "source": [
    "space={\n",
    "    'criterion':hp.choice('criterion',['entropy','gini']),\n",
    "    'max_depth':hp.quniform('max_depth',10,1200,10),\n",
    "    'max_features':hp.choice('max_features',['auto','sqrt','log2',None]),\n",
    "    'min_samples_leaf':hp.uniform('min_samples_leaf',0,0.5),\n",
    "    'min_samples_split':hp.uniform('min_samples_split',0,3),\n",
    "    'n_estimators':hp.choice('n_estimators',[10,50,300,750,1000])\n",
    "    }\n",
    "space"
   ]
  },
  {
   "cell_type": "code",
   "execution_count": 31,
   "id": "29042404",
   "metadata": {},
   "outputs": [],
   "source": [
    "from sklearn.model_selection import cross_val_score"
   ]
  },
  {
   "cell_type": "code",
   "execution_count": 32,
   "id": "e12b37b8",
   "metadata": {},
   "outputs": [
    {
     "data": {
      "text/plain": [
       "<hyperopt.pyll.base.Apply at 0x220270bcdf0>"
      ]
     },
     "execution_count": 32,
     "metadata": {},
     "output_type": "execute_result"
    }
   ],
   "source": [
    "space['criterion']"
   ]
  },
  {
   "cell_type": "code",
   "execution_count": 33,
   "id": "852c2068",
   "metadata": {},
   "outputs": [
    {
     "name": "stdout",
     "output_type": "stream",
     "text": [
      "RandomForestClassifier(criterion=<hyperopt.pyll.base.Apply object at 0x00000220270BCDF0>,\n",
      "                       max_depth=<hyperopt.pyll.base.Apply object at 0x00000220270BCF70>,\n",
      "                       max_features=<hyperopt.pyll.base.Apply object at 0x00000220270C0040>,\n",
      "                       min_samples_leaf=<hyperopt.pyll.base.Apply object at 0x00000220270C0220>,\n",
      "                       min_samples_split=<hyperopt.pyll.base.Apply object at 0x00000220270C0370>,\n",
      "                       n_estimators=<hyperopt.pyll.base.Apply object at 0x00000220270C0490>)\n",
      "nan\n"
     ]
    },
    {
     "data": {
      "text/plain": [
       "{'loss': nan, 'status': 'ok'}"
      ]
     },
     "execution_count": 33,
     "metadata": {},
     "output_type": "execute_result"
    }
   ],
   "source": [
    "from statistics import mean\n",
    "def objective(space):\n",
    "    model3=RandomForestClassifier(criterion=space['criterion'],max_depth=space['max_depth'],max_features=space['max_features'],min_samples_leaf=space['min_samples_leaf'],min_samples_split=space['min_samples_split'],n_estimators=space['n_estimators'])\n",
    "    print(model3)\n",
    "    accuracy= cross_val_score(model3,X_train,y_train,cv=5).mean()\n",
    "    print(accuracy)\n",
    "    #WE AIM TO Maximise accuracy therefore we return it as negative value\n",
    "    return{'loss': -accuracy,'status': STATUS_OK}\n",
    "objective(space)"
   ]
  },
  {
   "cell_type": "code",
   "execution_count": 34,
   "id": "18d2462b",
   "metadata": {},
   "outputs": [
    {
     "name": "stdout",
     "output_type": "stream",
     "text": [
      "RandomForestClassifier(criterion='entropy', max_depth=340.0,                                                           \n",
      "                       max_features='log2',\n",
      "                       min_samples_leaf=0.07119881409639867,\n",
      "                       min_samples_split=2.1902793638334184, n_estimators=300)\n",
      "nan                                                                                                                    \n",
      "RandomForestClassifier(criterion='entropy', max_depth=1100.0, max_features=None,                                       \n",
      "                       min_samples_leaf=0.2550212253515461,\n",
      "                       min_samples_split=1.67614596205745, n_estimators=10)\n",
      "nan                                                                                                                    \n",
      "RandomForestClassifier(max_depth=890.0, min_samples_leaf=0.09743647335825345,                                          \n",
      "                       min_samples_split=2.9427680593499645, n_estimators=750)\n",
      "nan                                                                                                                    \n",
      "RandomForestClassifier(criterion='entropy', max_depth=600.0,                                                           \n",
      "                       max_features='log2', min_samples_leaf=0.4080703207372471,\n",
      "                       min_samples_split=1.7776597144298285, n_estimators=50)\n",
      "nan                                                                                                                    \n",
      "RandomForestClassifier(criterion='entropy', max_depth=400.0, max_features=None,                                        \n",
      "                       min_samples_leaf=0.03984222486868694,\n",
      "                       min_samples_split=2.3525994879976224, n_estimators=1000)\n",
      "nan                                                                                                                    \n",
      "RandomForestClassifier(max_depth=1050.0, max_features=None,                                                            \n",
      "                       min_samples_leaf=0.12205786036315808,\n",
      "                       min_samples_split=1.0258797603180874, n_estimators=300)\n",
      "nan                                                                                                                    \n",
      "RandomForestClassifier(max_depth=640.0, max_features='sqrt',                                                           \n",
      "                       min_samples_leaf=0.21195955157148327,\n",
      "                       min_samples_split=1.2738925313149072, n_estimators=300)\n",
      "nan                                                                                                                    \n",
      "RandomForestClassifier(criterion='entropy', max_depth=990.0,                                                           \n",
      "                       max_features='log2',\n",
      "                       min_samples_leaf=0.09955766096765534,\n",
      "                       min_samples_split=0.08978536183584429, n_estimators=750)\n",
      "0.7639077702252433                                                                                                     \n",
      "RandomForestClassifier(criterion='entropy', max_depth=130.0,                                                           \n",
      "                       min_samples_leaf=0.12463097484791946,\n",
      "                       min_samples_split=0.8024125637478227, n_estimators=10)\n",
      "0.6530987604958016                                                                                                     \n",
      "RandomForestClassifier(criterion='entropy', max_depth=130.0,                                                           \n",
      "                       max_features='sqrt',\n",
      "                       min_samples_leaf=0.06842052667919962,\n",
      "                       min_samples_split=0.6114885745285796, n_estimators=300)\n",
      "0.6856990537118486                                                                                                     \n",
      "RandomForestClassifier(criterion='entropy', max_depth=440.0, max_features=None,                                        \n",
      "                       min_samples_leaf=0.19318991992206447,\n",
      "                       min_samples_split=0.2671468833453555, n_estimators=1000)\n",
      "0.7410502465680394                                                                                                     \n",
      "RandomForestClassifier(max_depth=560.0, min_samples_leaf=0.4094224940639394,                                           \n",
      "                       min_samples_split=1.0212893106926049, n_estimators=50)\n",
      "nan                                                                                                                    \n",
      "RandomForestClassifier(max_depth=80.0, max_features='log2',                                                            \n",
      "                       min_samples_leaf=0.34097682104632004,\n",
      "                       min_samples_split=0.9204787248498842, n_estimators=300)\n",
      "0.6530987604958016                                                                                                     \n",
      "RandomForestClassifier(criterion='entropy', max_depth=1200.0,                                                          \n",
      "                       max_features='sqrt',\n",
      "                       min_samples_leaf=0.25172010788414156,\n",
      "                       min_samples_split=2.708228092193208, n_estimators=10)\n",
      "nan                                                                                                                    \n",
      "RandomForestClassifier(max_depth=1100.0, max_features='sqrt',                                                          \n",
      "                       min_samples_leaf=0.29136928395692924,\n",
      "                       min_samples_split=2.680997931160423, n_estimators=750)\n",
      "nan                                                                                                                    \n",
      "RandomForestClassifier(criterion='entropy', max_depth=520.0,                                                           \n",
      "                       min_samples_leaf=0.3548824351351064,\n",
      "                       min_samples_split=2.493588295483331, n_estimators=750)\n",
      "nan                                                                                                                    \n",
      "RandomForestClassifier(criterion='entropy', max_depth=1040.0,                                                          \n",
      "                       max_features='log2',\n",
      "                       min_samples_leaf=0.08850615289618718,\n",
      "                       min_samples_split=2.0623696769205218, n_estimators=10)\n",
      "nan                                                                                                                    \n",
      "RandomForestClassifier(criterion='entropy', max_depth=1050.0,                                                          \n",
      "                       max_features='sqrt',\n",
      "                       min_samples_leaf=0.06850867975820524,\n",
      "                       min_samples_split=0.30247780342819974, n_estimators=750)\n",
      "0.7264294282287085                                                                                                     \n",
      "RandomForestClassifier(max_depth=1060.0, min_samples_leaf=0.2734563205011468,                                          \n",
      "                       min_samples_split=2.7264954830120907, n_estimators=300)\n",
      "nan                                                                                                                    \n",
      "RandomForestClassifier(max_depth=30.0, max_features=None,                                                              \n",
      "                       min_samples_leaf=0.21090093483203026,\n",
      "                       min_samples_split=2.829138370254267, n_estimators=300)\n",
      "nan                                                                                                                    \n",
      "RandomForestClassifier(criterion='entropy', max_depth=190.0,                                                           \n",
      "                       max_features='log2',\n",
      "                       min_samples_leaf=0.37701075449644117,\n",
      "                       min_samples_split=2.2958171395012306, n_estimators=1000)\n",
      "nan                                                                                                                    \n"
     ]
    },
    {
     "name": "stdout",
     "output_type": "stream",
     "text": [
      "RandomForestClassifier(max_depth=380.0, max_features='log2',                                                           \n",
      "                       min_samples_leaf=0.452419951901624,\n",
      "                       min_samples_split=0.6768092873244675, n_estimators=750)\n",
      "0.6530987604958016                                                                                                     \n",
      "RandomForestClassifier(criterion='entropy', max_depth=1030.0,                                                          \n",
      "                       max_features='sqrt', min_samples_leaf=0.4512415935522819,\n",
      "                       min_samples_split=1.4517367554103313, n_estimators=50)\n",
      "nan                                                                                                                    \n",
      "RandomForestClassifier(max_depth=490.0, max_features='sqrt',                                                           \n",
      "                       min_samples_leaf=0.24040942841352103,\n",
      "                       min_samples_split=2.681727170452119, n_estimators=750)\n",
      "nan                                                                                                                    \n",
      "RandomForestClassifier(criterion='entropy', max_depth=30.0, max_features='log2',                                       \n",
      "                       min_samples_leaf=0.1277712390688172,\n",
      "                       min_samples_split=1.459378842164564, n_estimators=1000)\n",
      "nan                                                                                                                    \n",
      "RandomForestClassifier(criterion='entropy', max_depth=880.0, max_features=None,                                        \n",
      "                       min_samples_leaf=0.08303845977997848,\n",
      "                       min_samples_split=0.9810912605824885, n_estimators=750)\n",
      "0.6530987604958016                                                                                                     \n",
      "RandomForestClassifier(max_depth=630.0, max_features='sqrt',                                                           \n",
      "                       min_samples_leaf=0.10361308175515044,\n",
      "                       min_samples_split=0.008512485550917548,\n",
      "                       n_estimators=750)\n",
      "0.7459682793549247                                                                                                     \n",
      "RandomForestClassifier(max_depth=300.0, min_samples_leaf=0.2502219056180916,                                           \n",
      "                       min_samples_split=0.04040369373114783, n_estimators=10)\n",
      "0.6807676929228308                                                                                                     \n",
      "RandomForestClassifier(max_depth=160.0, max_features=None,                                                             \n",
      "                       min_samples_leaf=0.2406696602185308,\n",
      "                       min_samples_split=2.6838565624424473, n_estimators=300)\n",
      "nan                                                                                                                    \n",
      "RandomForestClassifier(max_depth=590.0, max_features='sqrt',                                                           \n",
      "                       min_samples_leaf=0.2814896562434197,\n",
      "                       min_samples_split=2.5197399263530156, n_estimators=750)\n",
      "nan                                                                                                                    \n",
      "RandomForestClassifier(max_depth=370.0, max_features='sqrt',                                                           \n",
      "                       min_samples_leaf=0.3650353654443778,\n",
      "                       min_samples_split=0.953221563288926, n_estimators=750)\n",
      "0.6530987604958016                                                                                                     \n",
      "RandomForestClassifier(criterion='entropy', max_depth=450.0,                                                           \n",
      "                       max_features='sqrt',\n",
      "                       min_samples_leaf=0.29393937031284906,\n",
      "                       min_samples_split=2.851909762164952, n_estimators=1000)\n",
      "nan                                                                                                                    \n",
      "RandomForestClassifier(max_depth=260.0, max_features=None,                                                             \n",
      "                       min_samples_leaf=0.21725039843270028,\n",
      "                       min_samples_split=2.678828786714679, n_estimators=50)\n",
      "nan                                                                                                                    \n",
      "RandomForestClassifier(criterion='entropy', max_depth=340.0,                                                           \n",
      "                       max_features='sqrt',\n",
      "                       min_samples_leaf=0.44764119539979136,\n",
      "                       min_samples_split=0.6025240514211909, n_estimators=50)\n",
      "0.6530987604958016                                                                                                     \n",
      "RandomForestClassifier(max_depth=820.0, min_samples_leaf=0.2370624475270784,                                           \n",
      "                       min_samples_split=1.1357792909737485, n_estimators=1000)\n",
      "nan                                                                                                                    \n",
      "RandomForestClassifier(max_depth=570.0, max_features='sqrt',                                                           \n",
      "                       min_samples_leaf=0.3139269188201158,\n",
      "                       min_samples_split=0.5232982086094987, n_estimators=750)\n",
      "0.6530987604958016                                                                                                     \n",
      "RandomForestClassifier(criterion='entropy', max_depth=690.0,                                                           \n",
      "                       max_features='log2',\n",
      "                       min_samples_leaf=0.14018693144328365,\n",
      "                       min_samples_split=0.34418641126660887, n_estimators=750)\n",
      "0.7378381980541118                                                                                                     \n",
      "RandomForestClassifier(criterion='entropy', max_depth=980.0, max_features=None,                                        \n",
      "                       min_samples_leaf=0.45736511167251165,\n",
      "                       min_samples_split=2.39196915543398, n_estimators=300)\n",
      "nan                                                                                                                    \n",
      "RandomForestClassifier(criterion='entropy', max_depth=930.0,                                                           \n",
      "                       max_features='sqrt',\n",
      "                       min_samples_leaf=0.47129674876516725,\n",
      "                       min_samples_split=2.392473410999574, n_estimators=50)\n",
      "nan                                                                                                                    \n",
      "RandomForestClassifier(criterion='entropy', max_depth=510.0, max_features=None,                                        \n",
      "                       min_samples_leaf=0.37826055600766095,\n",
      "                       min_samples_split=2.4778275967398184, n_estimators=1000)\n",
      "nan                                                                                                                    \n",
      "RandomForestClassifier(max_depth=670.0, min_samples_leaf=0.16487171401248335,                                          \n",
      "                       min_samples_split=1.1116114838187396, n_estimators=50)\n",
      "nan                                                                                                                    \n",
      "RandomForestClassifier(criterion='entropy', max_depth=50.0, max_features='sqrt',                                       \n",
      "                       min_samples_leaf=0.37815572731294217,\n",
      "                       min_samples_split=0.08923831858349474, n_estimators=750)\n",
      "0.6530987604958016                                                                                                     \n",
      "RandomForestClassifier(criterion='entropy', max_depth=80.0,                                                            \n",
      "                       min_samples_leaf=0.05605977681089458,\n",
      "                       min_samples_split=0.29900789497354197,\n",
      "                       n_estimators=1000)\n"
     ]
    },
    {
     "name": "stdout",
     "output_type": "stream",
     "text": [
      "0.7378381980541118                                                                                                     \n",
      "RandomForestClassifier(max_depth=1120.0, max_features='sqrt',                                                          \n",
      "                       min_samples_leaf=0.34015220087915415,\n",
      "                       min_samples_split=1.7735336775789619, n_estimators=50)\n",
      "nan                                                                                                                    \n",
      "RandomForestClassifier(max_depth=160.0, min_samples_leaf=0.24830390597084273,                                          \n",
      "                       min_samples_split=2.512533972480518, n_estimators=50)\n",
      "nan                                                                                                                    \n",
      "RandomForestClassifier(criterion='entropy', max_depth=1030.0,                                                          \n",
      "                       max_features='log2',\n",
      "                       min_samples_leaf=0.32238549112615955,\n",
      "                       min_samples_split=2.8728235240675666, n_estimators=750)\n",
      "nan                                                                                                                    \n",
      "RandomForestClassifier(max_depth=350.0, max_features='sqrt',                                                           \n",
      "                       min_samples_leaf=0.46709871047893226,\n",
      "                       min_samples_split=2.3617890102252255, n_estimators=50)\n",
      "nan                                                                                                                    \n",
      "RandomForestClassifier(criterion='entropy', max_depth=670.0,                                                           \n",
      "                       min_samples_leaf=0.2510165725419763,\n",
      "                       min_samples_split=1.5097276582587569, n_estimators=300)\n",
      "nan                                                                                                                    \n",
      "RandomForestClassifier(criterion='entropy', max_depth=430.0,                                                           \n",
      "                       max_features='log2',\n",
      "                       min_samples_leaf=0.06821554744151548,\n",
      "                       min_samples_split=2.6056901570405797, n_estimators=50)\n",
      "nan                                                                                                                    \n",
      "RandomForestClassifier(criterion='entropy', max_depth=800.0,                                                           \n",
      "                       max_features='sqrt',\n",
      "                       min_samples_leaf=0.20950945967729767,\n",
      "                       min_samples_split=2.0495771192845043, n_estimators=300)\n",
      "nan                                                                                                                    \n",
      "RandomForestClassifier(max_depth=1010.0, max_features='sqrt',                                                          \n",
      "                       min_samples_leaf=0.31063256232978287,\n",
      "                       min_samples_split=2.3649685595786485, n_estimators=750)\n",
      "nan                                                                                                                    \n",
      "RandomForestClassifier(criterion='entropy', max_depth=1130.0,                                                          \n",
      "                       max_features='log2',\n",
      "                       min_samples_leaf=0.18740703485839316,\n",
      "                       min_samples_split=0.48624681568708306, n_estimators=750)\n",
      "0.7198720511795281                                                                                                     \n",
      "RandomForestClassifier(criterion='entropy', max_depth=1150.0,                                                          \n",
      "                       max_features='log2',\n",
      "                       min_samples_leaf=0.39052207982769627,\n",
      "                       min_samples_split=2.150069939253347, n_estimators=750)\n",
      "nan                                                                                                                    \n",
      "RandomForestClassifier(max_depth=410.0, max_features='sqrt',                                                           \n",
      "                       min_samples_leaf=0.27229109405985225,\n",
      "                       min_samples_split=0.9604212967927301, n_estimators=1000)\n",
      "0.6530987604958016                                                                                                     \n",
      "RandomForestClassifier(criterion='entropy', max_depth=50.0, max_features='sqrt',                                       \n",
      "                       min_samples_leaf=0.45557627808613516,\n",
      "                       min_samples_split=0.9848865342232108, n_estimators=10)\n",
      "0.6530987604958016                                                                                                     \n",
      "RandomForestClassifier(max_depth=810.0, max_features='log2',                                                           \n",
      "                       min_samples_leaf=0.20694697283118685,\n",
      "                       min_samples_split=0.29718894770910276, n_estimators=10)\n",
      "0.7379048380647741                                                                                                     \n",
      "RandomForestClassifier(max_depth=970.0, max_features=None,                                                             \n",
      "                       min_samples_leaf=0.11941508234503995,\n",
      "                       min_samples_split=2.5477978692287877, n_estimators=50)\n",
      "nan                                                                                                                    \n",
      "RandomForestClassifier(max_depth=960.0, max_features=None,                                                             \n",
      "                       min_samples_leaf=0.015043465611818019,\n",
      "                       min_samples_split=2.5541721571467475, n_estimators=50)\n",
      "nan                                                                                                                    \n",
      "RandomForestClassifier(max_depth=960.0, max_features=None,                                                             \n",
      "                       min_samples_leaf=0.024546072959324053,\n",
      "                       min_samples_split=2.375356624124727, n_estimators=50)\n",
      "nan                                                                                                                    \n",
      "RandomForestClassifier(max_depth=850.0, max_features=None,                                                             \n",
      "                       min_samples_leaf=0.002539883293159531,\n",
      "                       min_samples_split=2.438793628547481, n_estimators=50)\n",
      "nan                                                                                                                    \n",
      "RandomForestClassifier(max_depth=960.0, max_features=None,                                                             \n",
      "                       min_samples_leaf=0.10235121381659233,\n",
      "                       min_samples_split=2.613011943953254, n_estimators=50)\n",
      "nan                                                                                                                    \n",
      "RandomForestClassifier(max_depth=960.0, max_features=None,                                                             \n",
      "                       min_samples_leaf=0.02402413902943902,\n",
      "                       min_samples_split=2.530168620439415, n_estimators=50)\n",
      "nan                                                                                                                    \n",
      "RandomForestClassifier(max_depth=970.0, max_features=None,                                                             \n",
      "                       min_samples_leaf=0.0006421275060964904,\n",
      "                       min_samples_split=2.518892260051357, n_estimators=50)\n",
      "nan                                                                                                                    \n",
      "RandomForestClassifier(max_depth=970.0, max_features=None,                                                             \n",
      "                       min_samples_leaf=0.0011233398338069411,\n",
      "                       min_samples_split=2.5063356159286974, n_estimators=50)\n"
     ]
    },
    {
     "name": "stdout",
     "output_type": "stream",
     "text": [
      "nan                                                                                                                    \n",
      "RandomForestClassifier(max_depth=960.0, max_features=None,                                                             \n",
      "                       min_samples_leaf=0.0003916737809637888,\n",
      "                       min_samples_split=2.509230177413948, n_estimators=50)\n",
      "nan                                                                                                                    \n",
      "RandomForestClassifier(max_depth=960.0, max_features=None,                                                             \n",
      "                       min_samples_leaf=0.001136754332726586,\n",
      "                       min_samples_split=2.733461334375741, n_estimators=50)\n",
      "nan                                                                                                                    \n",
      "RandomForestClassifier(max_depth=860.0, max_features=None,                                                             \n",
      "                       min_samples_leaf=0.0010051599269010614,\n",
      "                       min_samples_split=2.406163387129436, n_estimators=50)\n",
      "nan                                                                                                                    \n",
      "RandomForestClassifier(max_depth=970.0, max_features=None,                                                             \n",
      "                       min_samples_leaf=0.0053626032733197215,\n",
      "                       min_samples_split=2.3960822836118503, n_estimators=50)\n",
      "nan                                                                                                                    \n",
      "RandomForestClassifier(max_depth=970.0, max_features=None,                                                             \n",
      "                       min_samples_leaf=0.0014412534087377554,\n",
      "                       min_samples_split=2.3086461670572023, n_estimators=50)\n",
      "nan                                                                                                                    \n",
      "RandomForestClassifier(max_depth=990.0, max_features=None,                                                             \n",
      "                       min_samples_leaf=0.13215138299287887,\n",
      "                       min_samples_split=2.4971068004136185, n_estimators=50)\n",
      "nan                                                                                                                    \n",
      "RandomForestClassifier(max_depth=980.0, max_features=None,                                                             \n",
      "                       min_samples_leaf=0.01870937972342185,\n",
      "                       min_samples_split=2.5986573785857243, n_estimators=50)\n",
      "nan                                                                                                                    \n",
      "RandomForestClassifier(max_depth=970.0, max_features=None,                                                             \n",
      "                       min_samples_leaf=0.001639502063818743,\n",
      "                       min_samples_split=2.4156293051656896, n_estimators=50)\n",
      "nan                                                                                                                    \n",
      "RandomForestClassifier(max_depth=860.0, max_features=None,                                                             \n",
      "                       min_samples_leaf=0.1307842792342089,\n",
      "                       min_samples_split=2.9140770573776313, n_estimators=50)\n",
      "nan                                                                                                                    \n",
      "RandomForestClassifier(max_depth=980.0, max_features=None,                                                             \n",
      "                       min_samples_leaf=0.008455934513268065,\n",
      "                       min_samples_split=2.3328530237946787, n_estimators=50)\n",
      "nan                                                                                                                    \n",
      "RandomForestClassifier(max_depth=920.0, max_features=None,                                                             \n",
      "                       min_samples_leaf=0.0060289045616287035,\n",
      "                       min_samples_split=2.510684991417084, n_estimators=50)\n",
      "nan                                                                                                                    \n",
      "RandomForestClassifier(max_depth=960.0, max_features=None,                                                             \n",
      "                       min_samples_leaf=0.019067323250878176,\n",
      "                       min_samples_split=2.5122829471431585, n_estimators=50)\n",
      "nan                                                                                                                    \n",
      "RandomForestClassifier(max_depth=960.0, max_features=None,                                                             \n",
      "                       min_samples_leaf=0.0075779991031989236,\n",
      "                       min_samples_split=2.442711547964368, n_estimators=50)\n",
      "nan                                                                                                                    \n",
      "RandomForestClassifier(max_depth=980.0, max_features=None,                                                             \n",
      "                       min_samples_leaf=0.007737951481428043,\n",
      "                       min_samples_split=2.5086666984932284, n_estimators=50)\n",
      "nan                                                                                                                    \n",
      "RandomForestClassifier(max_depth=1010.0, max_features=None,                                                            \n",
      "                       min_samples_leaf=0.0014553925134004608,\n",
      "                       min_samples_split=2.2556935801660183, n_estimators=50)\n",
      "nan                                                                                                                    \n",
      "RandomForestClassifier(max_depth=930.0, max_features=None,                                                             \n",
      "                       min_samples_leaf=0.13576843116643234,\n",
      "                       min_samples_split=2.4907259681602927, n_estimators=50)\n",
      "nan                                                                                                                    \n",
      "100%|███████████████████████████████████████████████| 80/80 [02:58<00:00,  2.23s/trial, best loss: -0.7639077702252433]\n"
     ]
    },
    {
     "data": {
      "text/plain": [
       "{'criterion': 0,\n",
       " 'max_depth': 990.0,\n",
       " 'max_features': 2,\n",
       " 'min_samples_leaf': 0.09955766096765534,\n",
       " 'min_samples_split': 0.08978536183584429,\n",
       " 'n_estimators': 3}"
      ]
     },
     "execution_count": 34,
     "metadata": {},
     "output_type": "execute_result"
    }
   ],
   "source": [
    "from sklearn.model_selection import cross_val_score\n",
    "trial=Trials()\n",
    "best= fmin(fn=objective,\n",
    "         space=space,\n",
    "         algo=tpe.suggest,\n",
    "         max_evals=80,\n",
    "         trials=trial)\n",
    "best"
   ]
  },
  {
   "cell_type": "code",
   "execution_count": 35,
   "id": "f7386727",
   "metadata": {},
   "outputs": [],
   "source": [
    "crit={0:'entropy',1:'gini'}\n",
    "features={ 0:'auto',1:'sqrt',2:'log2',3:None}\n",
    "estimators={0:10,1:50,2:300,3:750,4:1000}\n"
   ]
  },
  {
   "cell_type": "code",
   "execution_count": 36,
   "id": "64a3aac6",
   "metadata": {},
   "outputs": [
    {
     "data": {
      "text/plain": [
       "750"
      ]
     },
     "execution_count": 36,
     "metadata": {},
     "output_type": "execute_result"
    }
   ],
   "source": [
    "estimators[best['n_estimators']]"
   ]
  },
  {
   "cell_type": "code",
   "execution_count": 37,
   "id": "a9d83e96",
   "metadata": {},
   "outputs": [],
   "source": [
    "model4=RandomForestClassifier(criterion=crit[best['criterion']],max_depth=best['max_depth'],max_features=features[best['max_features']],min_samples_leaf=best['min_samples_leaf'],min_samples_split=best['min_samples_split'],n_estimators=estimators[best['n_estimators']])"
   ]
  },
  {
   "cell_type": "code",
   "execution_count": 38,
   "id": "bf7afdc4",
   "metadata": {},
   "outputs": [
    {
     "data": {
      "text/plain": [
       "RandomForestClassifier(criterion='entropy', max_depth=990.0,\n",
       "                       max_features='log2',\n",
       "                       min_samples_leaf=0.09955766096765534,\n",
       "                       min_samples_split=0.08978536183584429, n_estimators=750)"
      ]
     },
     "execution_count": 38,
     "metadata": {},
     "output_type": "execute_result"
    }
   ],
   "source": [
    "model4.fit(X_train,y_train)"
   ]
  },
  {
   "cell_type": "code",
   "execution_count": 39,
   "id": "486efe48",
   "metadata": {},
   "outputs": [
    {
     "name": "stdout",
     "output_type": "stream",
     "text": [
      "[[90 34]\n",
      " [ 9 21]]\n",
      "0.7207792207792207\n"
     ]
    }
   ],
   "source": [
    "predic_forest=model4.predict(X_test)\n",
    "print(confusion_matrix(predic_forest,y_test))\n",
    "print(accuracy_score(predic_forest,y_test))"
   ]
  },
  {
   "cell_type": "markdown",
   "id": "ad6d31f4",
   "metadata": {},
   "source": [
    "## Genetic ALgotiyhm"
   ]
  },
  {
   "cell_type": "code",
   "execution_count": 44,
   "id": "b9323131",
   "metadata": {},
   "outputs": [],
   "source": [
    "import numpy as np\n",
    "from sklearn.ensemble import RandomForestClassifier"
   ]
  },
  {
   "cell_type": "code",
   "execution_count": 45,
   "id": "1aaa51a1",
   "metadata": {},
   "outputs": [],
   "source": [
    "# number of trees in random forest\n",
    "n_estimators=[int(x) for x in np.linspace(start=100,stop=2000,num=10)]\n",
    "#number of features to consider at every split\n",
    "max_features=[\"auto\", \"sqrt\", \"log2\"]\n",
    "##max number of level in tree\n",
    "max_depth=[int(x) for x in np.linspace(10,1000,10)]\n",
    "##minimum number of sample to split a node\n",
    "min_samples_split=[1,2,3,4,5,7,9]\n",
    "#minimum number of samples to split a each leaf node\n",
    "min_samples_leaf=[1,2,4,6,8]\n",
    "#create random grid\n",
    "param={\n",
    "    \"n_estimators\":n_estimators,\n",
    "    \"max_features\":max_features,\n",
    "    \"max_depth\":max_depth,\n",
    "    \"min_samples_split\":min_samples_split,\n",
    "    \"min_samples_leaf\":min_samples_leaf,\n",
    "    'criterion':['gini', \"entropy\"]\n",
    "    \n",
    "}"
   ]
  },
  {
   "cell_type": "code",
   "execution_count": 50,
   "id": "91cf7c6b",
   "metadata": {},
   "outputs": [
    {
     "name": "stdout",
     "output_type": "stream",
     "text": [
      "Requirement already satisfied: tpot in c:\\users\\lenovo\\anaconda3\\lib\\site-packages (0.11.7)\n",
      "Requirement already satisfied: pandas>=0.24.2 in c:\\users\\lenovo\\anaconda3\\lib\\site-packages (from tpot) (1.2.4)\n",
      "Requirement already satisfied: scikit-learn>=0.22.0 in c:\\users\\lenovo\\anaconda3\\lib\\site-packages (from tpot) (0.24.1)\n",
      "Requirement already satisfied: deap>=1.2 in c:\\users\\lenovo\\anaconda3\\lib\\site-packages (from tpot) (1.3.1)\n",
      "Requirement already satisfied: update-checker>=0.16 in c:\\users\\lenovo\\anaconda3\\lib\\site-packages (from tpot) (0.18.0)\n",
      "Requirement already satisfied: joblib>=0.13.2 in c:\\users\\lenovo\\anaconda3\\lib\\site-packages (from tpot) (1.0.1)\n",
      "Requirement already satisfied: scipy>=1.3.1 in c:\\users\\lenovo\\anaconda3\\lib\\site-packages (from tpot) (1.6.2)\n",
      "Requirement already satisfied: stopit>=1.1.1 in c:\\users\\lenovo\\anaconda3\\lib\\site-packages (from tpot) (1.1.2)\n",
      "Requirement already satisfied: xgboost>=1.1.0 in c:\\users\\lenovo\\anaconda3\\lib\\site-packages (from tpot) (1.5.0)\n",
      "Requirement already satisfied: numpy>=1.16.3 in c:\\users\\lenovo\\anaconda3\\lib\\site-packages (from tpot) (1.20.1)\n",
      "Requirement already satisfied: tqdm>=4.36.1 in c:\\users\\lenovo\\anaconda3\\lib\\site-packages (from tpot) (4.59.0)\n",
      "Requirement already satisfied: python-dateutil>=2.7.3 in c:\\users\\lenovo\\anaconda3\\lib\\site-packages (from pandas>=0.24.2->tpot) (2.8.1)\n",
      "Requirement already satisfied: pytz>=2017.3 in c:\\users\\lenovo\\anaconda3\\lib\\site-packages (from pandas>=0.24.2->tpot) (2021.1)\n",
      "Requirement already satisfied: six>=1.5 in c:\\users\\lenovo\\anaconda3\\lib\\site-packages (from python-dateutil>=2.7.3->pandas>=0.24.2->tpot) (1.15.0)\n",
      "Requirement already satisfied: threadpoolctl>=2.0.0 in c:\\users\\lenovo\\anaconda3\\lib\\site-packages (from scikit-learn>=0.22.0->tpot) (2.1.0)\n",
      "Requirement already satisfied: requests>=2.3.0 in c:\\users\\lenovo\\anaconda3\\lib\\site-packages (from update-checker>=0.16->tpot) (2.25.1)\n",
      "Requirement already satisfied: chardet<5,>=3.0.2 in c:\\users\\lenovo\\anaconda3\\lib\\site-packages (from requests>=2.3.0->update-checker>=0.16->tpot) (4.0.0)\n",
      "Requirement already satisfied: idna<3,>=2.5 in c:\\users\\lenovo\\anaconda3\\lib\\site-packages (from requests>=2.3.0->update-checker>=0.16->tpot) (2.10)\n",
      "Requirement already satisfied: urllib3<1.27,>=1.21.1 in c:\\users\\lenovo\\anaconda3\\lib\\site-packages (from requests>=2.3.0->update-checker>=0.16->tpot) (1.26.4)\n",
      "Requirement already satisfied: certifi>=2017.4.17 in c:\\users\\lenovo\\anaconda3\\lib\\site-packages (from requests>=2.3.0->update-checker>=0.16->tpot) (2020.12.5)\n"
     ]
    }
   ],
   "source": [
    "!pip install tpot"
   ]
  },
  {
   "cell_type": "code",
   "execution_count": 51,
   "id": "6d544b30",
   "metadata": {},
   "outputs": [],
   "source": [
    "from tpot import TPOTClassifier"
   ]
  },
  {
   "cell_type": "code",
   "execution_count": 52,
   "id": "daae33ed",
   "metadata": {},
   "outputs": [],
   "source": [
    "#k=sklearn.ensemble.RandomForestClassifier"
   ]
  },
  {
   "cell_type": "code",
   "execution_count": 60,
   "id": "139e47bb",
   "metadata": {},
   "outputs": [],
   "source": [
    "TPOT_classifier=TPOTClassifier(generations=5,population_size=24,offspring_size=12,verbosity=2,\n",
    "                               config_dict={'sklearn.ensemble.RandomForestClassifier':param},\n",
    "                               early_stop=12,cv=4,scoring='accuracy')\n"
   ]
  },
  {
   "cell_type": "code",
   "execution_count": null,
   "id": "29ba36fc",
   "metadata": {},
   "outputs": [],
   "source": [
    "TPOT_classifier.fit(X_train,y_train)\n",
    "accuracy=TPOT_classifier.score(X_test, y_test)\n",
    "print(accuracy)"
   ]
  },
  {
   "cell_type": "markdown",
   "id": "a424285a",
   "metadata": {},
   "source": [
    "### Optimize hyperparameters of the model using Optuna"
   ]
  },
  {
   "cell_type": "code",
   "execution_count": 64,
   "id": "bbaac0c1",
   "metadata": {},
   "outputs": [],
   "source": [
    "import optuna\n",
    "import sklearn.svm\n"
   ]
  },
  {
   "cell_type": "code",
   "execution_count": 81,
   "id": "2a0bf8df",
   "metadata": {},
   "outputs": [],
   "source": [
    "def objective(trial):\n",
    "    classifier = trial.suggest_categorical('classifier', ['RandomForest', 'SVC'])\n",
    "    if classifier=='RandomForest':\n",
    "        n_estimators=trial.suggest_int('n_estimators',200,2000,10)\n",
    "        max_depth=int(trial.suggest_float('max_depth',10,100,log=True))\n",
    "        \n",
    "        clf=RandomForestClassifier(n_estimators=n_estimators,max_depth=max_depth)\n",
    "    else:\n",
    "        c=trial.suggest_float('svc_c',1e-10,1e10,log=True)\n",
    "        clf = sklearn.svm.SVC(C=c, gamma='auto')\n",
    "    return sklearn.model_selection.cross_val_score(clf,X_train,y_train,n_jobs=-1,cv=3).mean()\n",
    "    "
   ]
  },
  {
   "cell_type": "code",
   "execution_count": 82,
   "id": "fbf2bb15",
   "metadata": {},
   "outputs": [
    {
     "name": "stderr",
     "output_type": "stream",
     "text": [
      "\u001b[32m[I 2021-11-08 12:43:59,208]\u001b[0m A new study created in memory with name: no-name-4fbdf9ff-d8db-4d06-bde8-53ac3d8fd36c\u001b[0m\n",
      "\u001b[32m[I 2021-11-08 12:44:34,380]\u001b[0m Trial 0 finished with value: 0.6530926191614858 and parameters: {'classifier': 'SVC', 'svc_c': 9.46070142173073}. Best is trial 0 with value: 0.6530926191614858.\u001b[0m\n",
      "\u001b[32m[I 2021-11-08 12:44:43,786]\u001b[0m Trial 1 finished with value: 0.7638769328869759 and parameters: {'classifier': 'RandomForest', 'n_estimators': 1200, 'max_depth': 51.64832586503327}. Best is trial 1 with value: 0.7638769328869759.\u001b[0m\n",
      "\u001b[32m[I 2021-11-08 12:44:52,398]\u001b[0m Trial 2 finished with value: 0.7703969392635103 and parameters: {'classifier': 'RandomForest', 'n_estimators': 1180, 'max_depth': 91.13344277392265}. Best is trial 2 with value: 0.7703969392635103.\u001b[0m\n",
      "\u001b[32m[I 2021-11-08 12:44:52,604]\u001b[0m Trial 3 finished with value: 0.6530926191614858 and parameters: {'classifier': 'SVC', 'svc_c': 35.96738777888134}. Best is trial 2 with value: 0.7703969392635103.\u001b[0m\n",
      "\u001b[32m[I 2021-11-08 12:44:57,144]\u001b[0m Trial 4 finished with value: 0.7785589032360912 and parameters: {'classifier': 'RandomForest', 'n_estimators': 920, 'max_depth': 42.818421203225114}. Best is trial 4 with value: 0.7785589032360912.\u001b[0m\n",
      "\u001b[32m[I 2021-11-08 12:45:01,508]\u001b[0m Trial 5 finished with value: 0.7687709230033476 and parameters: {'classifier': 'RandomForest', 'n_estimators': 850, 'max_depth': 25.352338777659522}. Best is trial 4 with value: 0.7785589032360912.\u001b[0m\n",
      "\u001b[32m[I 2021-11-08 12:45:01,776]\u001b[0m Trial 6 finished with value: 0.6530926191614858 and parameters: {'classifier': 'SVC', 'svc_c': 61018.78905418736}. Best is trial 4 with value: 0.7785589032360912.\u001b[0m\n",
      "\u001b[32m[I 2021-11-08 12:45:01,885]\u001b[0m Trial 7 finished with value: 0.6530926191614858 and parameters: {'classifier': 'SVC', 'svc_c': 0.0009652400115687758}. Best is trial 4 with value: 0.7785589032360912.\u001b[0m\n",
      "\u001b[32m[I 2021-11-08 12:45:02,002]\u001b[0m Trial 8 finished with value: 0.6530926191614858 and parameters: {'classifier': 'SVC', 'svc_c': 1627713722.2398481}. Best is trial 4 with value: 0.7785589032360912.\u001b[0m\n",
      "\u001b[32m[I 2021-11-08 12:45:02,100]\u001b[0m Trial 9 finished with value: 0.6530926191614858 and parameters: {'classifier': 'SVC', 'svc_c': 6.015202390825246e-05}. Best is trial 4 with value: 0.7785589032360912.\u001b[0m\n",
      "\u001b[32m[I 2021-11-08 12:45:04,581]\u001b[0m Trial 10 finished with value: 0.767144906743185 and parameters: {'classifier': 'RandomForest', 'n_estimators': 200, 'max_depth': 10.104811785039143}. Best is trial 4 with value: 0.7785589032360912.\u001b[0m\n",
      "\u001b[32m[I 2021-11-08 12:45:14,614]\u001b[0m Trial 11 finished with value: 0.7687868643392317 and parameters: {'classifier': 'RandomForest', 'n_estimators': 1810, 'max_depth': 96.99659451557974}. Best is trial 4 with value: 0.7785589032360912.\u001b[0m\n",
      "\u001b[32m[I 2021-11-08 12:45:21,148]\u001b[0m Trial 12 finished with value: 0.7655109198150805 and parameters: {'classifier': 'RandomForest', 'n_estimators': 1110, 'max_depth': 90.29151506866985}. Best is trial 4 with value: 0.7785589032360912.\u001b[0m\n",
      "\u001b[32m[I 2021-11-08 12:45:26,210]\u001b[0m Trial 13 finished with value: 0.7606328710345927 and parameters: {'classifier': 'RandomForest', 'n_estimators': 760, 'max_depth': 38.80574628231819}. Best is trial 4 with value: 0.7785589032360912.\u001b[0m\n",
      "\u001b[32m[I 2021-11-08 12:45:34,504]\u001b[0m Trial 14 finished with value: 0.7655268611509646 and parameters: {'classifier': 'RandomForest', 'n_estimators': 1500, 'max_depth': 54.56916598869412}. Best is trial 4 with value: 0.7785589032360912.\u001b[0m\n",
      "\u001b[32m[I 2021-11-08 12:45:36,991]\u001b[0m Trial 15 finished with value: 0.7687709230033476 and parameters: {'classifier': 'RandomForest', 'n_estimators': 610, 'max_depth': 24.4054764422255}. Best is trial 4 with value: 0.7785589032360912.\u001b[0m\n",
      "\u001b[32m[I 2021-11-08 12:45:42,507]\u001b[0m Trial 16 finished with value: 0.7655109198150805 and parameters: {'classifier': 'RandomForest', 'n_estimators': 1400, 'max_depth': 14.661822232017377}. Best is trial 4 with value: 0.7785589032360912.\u001b[0m\n",
      "\u001b[32m[I 2021-11-08 12:45:44,156]\u001b[0m Trial 17 finished with value: 0.7687709230033476 and parameters: {'classifier': 'RandomForest', 'n_estimators': 440, 'max_depth': 62.913980397793786}. Best is trial 4 with value: 0.7785589032360912.\u001b[0m\n",
      "\u001b[32m[I 2021-11-08 12:45:47,375]\u001b[0m Trial 18 finished with value: 0.7655188904830225 and parameters: {'classifier': 'RandomForest', 'n_estimators': 950, 'max_depth': 36.11645485314281}. Best is trial 4 with value: 0.7785589032360912.\u001b[0m\n",
      "\u001b[32m[I 2021-11-08 12:45:52,215]\u001b[0m Trial 19 finished with value: 0.7622509166268133 and parameters: {'classifier': 'RandomForest', 'n_estimators': 1380, 'max_depth': 71.10819170113477}. Best is trial 4 with value: 0.7785589032360912.\u001b[0m\n",
      "\u001b[32m[I 2021-11-08 12:45:58,247]\u001b[0m Trial 20 finished with value: 0.7638849035549179 and parameters: {'classifier': 'RandomForest', 'n_estimators': 1720, 'max_depth': 43.51922692922678}. Best is trial 4 with value: 0.7785589032360912.\u001b[0m\n",
      "\u001b[32m[I 2021-11-08 12:46:05,454]\u001b[0m Trial 21 finished with value: 0.7671528774111271 and parameters: {'classifier': 'RandomForest', 'n_estimators': 1970, 'max_depth': 94.20557453917463}. Best is trial 4 with value: 0.7785589032360912.\u001b[0m\n",
      "\u001b[32m[I 2021-11-08 12:46:12,174]\u001b[0m Trial 22 finished with value: 0.7687868643392317 and parameters: {'classifier': 'RandomForest', 'n_estimators': 1980, 'max_depth': 76.75294545188036}. Best is trial 4 with value: 0.7785589032360912.\u001b[0m\n",
      "\u001b[32m[I 2021-11-08 12:46:15,580]\u001b[0m Trial 23 finished with value: 0.7687709230033476 and parameters: {'classifier': 'RandomForest', 'n_estimators': 1020, 'max_depth': 90.70393819606704}. Best is trial 4 with value: 0.7785589032360912.\u001b[0m\n",
      "\u001b[32m[I 2021-11-08 12:46:21,288]\u001b[0m Trial 24 finished with value: 0.7704128805993943 and parameters: {'classifier': 'RandomForest', 'n_estimators': 1680, 'max_depth': 24.488874579317706}. Best is trial 4 with value: 0.7785589032360912.\u001b[0m\n",
      "\u001b[32m[I 2021-11-08 12:46:26,944]\u001b[0m Trial 25 finished with value: 0.772030926191615 and parameters: {'classifier': 'RandomForest', 'n_estimators': 1610, 'max_depth': 25.748805388466465}. Best is trial 4 with value: 0.7785589032360912.\u001b[0m\n",
      "\u001b[32m[I 2021-11-08 12:46:32,743]\u001b[0m Trial 26 finished with value: 0.772038896859557 and parameters: {'classifier': 'RandomForest', 'n_estimators': 1650, 'max_depth': 26.251436747343057}. Best is trial 4 with value: 0.7785589032360912.\u001b[0m\n",
      "\u001b[32m[I 2021-11-08 12:46:37,965]\u001b[0m Trial 27 finished with value: 0.772030926191615 and parameters: {'classifier': 'RandomForest', 'n_estimators': 1580, 'max_depth': 16.970365188466978}. Best is trial 4 with value: 0.7785589032360912.\u001b[0m\n",
      "\u001b[32m[I 2021-11-08 12:46:42,852]\u001b[0m Trial 28 finished with value: 0.7687788936712897 and parameters: {'classifier': 'RandomForest', 'n_estimators': 1360, 'max_depth': 16.482514340475603}. Best is trial 4 with value: 0.7785589032360912.\u001b[0m\n",
      "\u001b[32m[I 2021-11-08 12:46:42,938]\u001b[0m Trial 29 finished with value: 0.6530926191614858 and parameters: {'classifier': 'SVC', 'svc_c': 1.0274433238934865e-10}. Best is trial 4 with value: 0.7785589032360912.\u001b[0m\n",
      "\u001b[32m[I 2021-11-08 12:46:49,324]\u001b[0m Trial 30 finished with value: 0.7638769328869759 and parameters: {'classifier': 'RandomForest', 'n_estimators': 1830, 'max_depth': 18.892293068916995}. Best is trial 4 with value: 0.7785589032360912.\u001b[0m\n",
      "\u001b[32m[I 2021-11-08 12:46:55,274]\u001b[0m Trial 31 finished with value: 0.7687868643392317 and parameters: {'classifier': 'RandomForest', 'n_estimators': 1590, 'max_depth': 27.46995702553201}. Best is trial 4 with value: 0.7785589032360912.\u001b[0m\n",
      "\u001b[32m[I 2021-11-08 12:47:00,608]\u001b[0m Trial 32 finished with value: 0.7704049099314524 and parameters: {'classifier': 'RandomForest', 'n_estimators': 1590, 'max_depth': 20.074771809463787}. Best is trial 4 with value: 0.7785589032360912.\u001b[0m\n",
      "\u001b[32m[I 2021-11-08 12:47:05,134]\u001b[0m Trial 33 finished with value: 0.7687788936712897 and parameters: {'classifier': 'RandomForest', 'n_estimators': 1320, 'max_depth': 30.66292203314192}. Best is trial 4 with value: 0.7785589032360912.\u001b[0m\n",
      "\u001b[32m[I 2021-11-08 12:47:10,632]\u001b[0m Trial 34 finished with value: 0.7703969392635103 and parameters: {'classifier': 'RandomForest', 'n_estimators': 1550, 'max_depth': 13.005800102455934}. Best is trial 4 with value: 0.7785589032360912.\u001b[0m\n"
     ]
    },
    {
     "name": "stderr",
     "output_type": "stream",
     "text": [
      "\u001b[32m[I 2021-11-08 12:47:16,685]\u001b[0m Trial 35 finished with value: 0.767144906743185 and parameters: {'classifier': 'RandomForest', 'n_estimators': 1800, 'max_depth': 19.33085524730398}. Best is trial 4 with value: 0.7785589032360912.\u001b[0m\n",
      "\u001b[32m[I 2021-11-08 12:47:20,738]\u001b[0m Trial 36 finished with value: 0.7622668579626972 and parameters: {'classifier': 'RandomForest', 'n_estimators': 1240, 'max_depth': 32.75926423701165}. Best is trial 4 with value: 0.7785589032360912.\u001b[0m\n",
      "\u001b[32m[I 2021-11-08 12:47:20,835]\u001b[0m Trial 37 finished with value: 0.6530926191614858 and parameters: {'classifier': 'SVC', 'svc_c': 2480301762.958945}. Best is trial 4 with value: 0.7785589032360912.\u001b[0m\n",
      "\u001b[32m[I 2021-11-08 12:47:25,908]\u001b[0m Trial 38 finished with value: 0.7622668579626972 and parameters: {'classifier': 'RandomForest', 'n_estimators': 1510, 'max_depth': 47.453250345703175}. Best is trial 4 with value: 0.7785589032360912.\u001b[0m\n",
      "\u001b[32m[I 2021-11-08 12:47:25,979]\u001b[0m Trial 39 finished with value: 0.6530926191614858 and parameters: {'classifier': 'SVC', 'svc_c': 1.0864187324654277e-09}. Best is trial 4 with value: 0.7785589032360912.\u001b[0m\n",
      "\u001b[32m[I 2021-11-08 12:47:28,443]\u001b[0m Trial 40 finished with value: 0.7671209947393591 and parameters: {'classifier': 'RandomForest', 'n_estimators': 690, 'max_depth': 20.81818798491117}. Best is trial 4 with value: 0.7785589032360912.\u001b[0m\n",
      "\u001b[32m[I 2021-11-08 12:47:34,121]\u001b[0m Trial 41 finished with value: 0.7687709230033476 and parameters: {'classifier': 'RandomForest', 'n_estimators': 1680, 'max_depth': 23.82542748543112}. Best is trial 4 with value: 0.7785589032360912.\u001b[0m\n",
      "\u001b[32m[I 2021-11-08 12:47:40,588]\u001b[0m Trial 42 finished with value: 0.7687788936712897 and parameters: {'classifier': 'RandomForest', 'n_estimators': 1740, 'max_depth': 29.56328197838408}. Best is trial 4 with value: 0.7785589032360912.\u001b[0m\n",
      "\u001b[32m[I 2021-11-08 12:47:46,449]\u001b[0m Trial 43 finished with value: 0.767144906743185 and parameters: {'classifier': 'RandomForest', 'n_estimators': 1660, 'max_depth': 23.13594087705074}. Best is trial 4 with value: 0.7785589032360912.\u001b[0m\n",
      "\u001b[32m[I 2021-11-08 12:47:51,376]\u001b[0m Trial 44 finished with value: 0.7655188904830225 and parameters: {'classifier': 'RandomForest', 'n_estimators': 1220, 'max_depth': 16.404952839841126}. Best is trial 4 with value: 0.7785589032360912.\u001b[0m\n",
      "\u001b[32m[I 2021-11-08 12:47:51,645]\u001b[0m Trial 45 finished with value: 0.6530926191614858 and parameters: {'classifier': 'SVC', 'svc_c': 153659.87453675008}. Best is trial 4 with value: 0.7785589032360912.\u001b[0m\n",
      "\u001b[32m[I 2021-11-08 12:48:04,584]\u001b[0m Trial 46 finished with value: 0.7687788936712897 and parameters: {'classifier': 'RandomForest', 'n_estimators': 1920, 'max_depth': 38.41864072625433}. Best is trial 4 with value: 0.7785589032360912.\u001b[0m\n",
      "\u001b[32m[I 2021-11-08 12:48:08,204]\u001b[0m Trial 47 finished with value: 0.7655109198150805 and parameters: {'classifier': 'RandomForest', 'n_estimators': 890, 'max_depth': 25.817524013304556}. Best is trial 4 with value: 0.7785589032360912.\u001b[0m\n",
      "\u001b[32m[I 2021-11-08 12:48:14,605]\u001b[0m Trial 48 finished with value: 0.7638928742228598 and parameters: {'classifier': 'RandomForest', 'n_estimators': 1110, 'max_depth': 33.716152098856654}. Best is trial 4 with value: 0.7785589032360912.\u001b[0m\n",
      "\u001b[32m[I 2021-11-08 12:48:25,728]\u001b[0m Trial 49 finished with value: 0.7704128805993943 and parameters: {'classifier': 'RandomForest', 'n_estimators': 1450, 'max_depth': 11.234935508073685}. Best is trial 4 with value: 0.7785589032360912.\u001b[0m\n",
      "\u001b[32m[I 2021-11-08 12:48:25,896]\u001b[0m Trial 50 finished with value: 0.6530926191614858 and parameters: {'classifier': 'SVC', 'svc_c': 1.0659777616308863e-05}. Best is trial 4 with value: 0.7785589032360912.\u001b[0m\n",
      "\u001b[32m[I 2021-11-08 12:48:34,568]\u001b[0m Trial 51 finished with value: 0.7687788936712897 and parameters: {'classifier': 'RandomForest', 'n_estimators': 1490, 'max_depth': 11.11827864368633}. Best is trial 4 with value: 0.7785589032360912.\u001b[0m\n",
      "\u001b[32m[I 2021-11-08 12:48:45,330]\u001b[0m Trial 52 finished with value: 0.7687868643392317 and parameters: {'classifier': 'RandomForest', 'n_estimators': 1650, 'max_depth': 12.412101082647705}. Best is trial 4 with value: 0.7785589032360912.\u001b[0m\n",
      "\u001b[32m[I 2021-11-08 12:48:56,715]\u001b[0m Trial 53 finished with value: 0.7638849035549179 and parameters: {'classifier': 'RandomForest', 'n_estimators': 1830, 'max_depth': 17.402011781318834}. Best is trial 4 with value: 0.7785589032360912.\u001b[0m\n",
      "\u001b[32m[I 2021-11-08 12:49:04,437]\u001b[0m Trial 54 finished with value: 0.7687788936712897 and parameters: {'classifier': 'RandomForest', 'n_estimators': 1430, 'max_depth': 22.119754622007264}. Best is trial 4 with value: 0.7785589032360912.\u001b[0m\n",
      "\u001b[32m[I 2021-11-08 12:49:12,949]\u001b[0m Trial 55 finished with value: 0.7704128805993943 and parameters: {'classifier': 'RandomForest', 'n_estimators': 1300, 'max_depth': 14.179939354479545}. Best is trial 4 with value: 0.7785589032360912.\u001b[0m\n",
      "\u001b[32m[I 2021-11-08 12:49:21,676]\u001b[0m Trial 56 finished with value: 0.767168818747011 and parameters: {'classifier': 'RandomForest', 'n_estimators': 1450, 'max_depth': 10.214891841299178}. Best is trial 4 with value: 0.7785589032360912.\u001b[0m\n",
      "\u001b[32m[I 2021-11-08 12:49:29,569]\u001b[0m Trial 57 finished with value: 0.7671528774111271 and parameters: {'classifier': 'RandomForest', 'n_estimators': 1280, 'max_depth': 15.074780192434519}. Best is trial 4 with value: 0.7785589032360912.\u001b[0m\n",
      "\u001b[32m[I 2021-11-08 12:49:35,348]\u001b[0m Trial 58 finished with value: 0.7622588872947552 and parameters: {'classifier': 'RandomForest', 'n_estimators': 1030, 'max_depth': 12.114369231952137}. Best is trial 4 with value: 0.7785589032360912.\u001b[0m\n",
      "\u001b[32m[I 2021-11-08 12:49:38,148]\u001b[0m Trial 59 finished with value: 0.7671528774111271 and parameters: {'classifier': 'RandomForest', 'n_estimators': 460, 'max_depth': 26.70164816708504}. Best is trial 4 with value: 0.7785589032360912.\u001b[0m\n",
      "\u001b[32m[I 2021-11-08 12:49:42,353]\u001b[0m Trial 60 finished with value: 0.7736569424517775 and parameters: {'classifier': 'RandomForest', 'n_estimators': 820, 'max_depth': 43.3843373554734}. Best is trial 4 with value: 0.7785589032360912.\u001b[0m\n",
      "\u001b[32m[I 2021-11-08 12:49:46,389]\u001b[0m Trial 61 finished with value: 0.7606408417025347 and parameters: {'classifier': 'RandomForest', 'n_estimators': 860, 'max_depth': 54.769904844712386}. Best is trial 4 with value: 0.7785589032360912.\u001b[0m\n",
      "\u001b[32m[I 2021-11-08 12:49:49,498]\u001b[0m Trial 62 finished with value: 0.767168818747011 and parameters: {'classifier': 'RandomForest', 'n_estimators': 610, 'max_depth': 48.631803004993515}. Best is trial 4 with value: 0.7785589032360912.\u001b[0m\n",
      "\u001b[32m[I 2021-11-08 12:49:53,829]\u001b[0m Trial 63 finished with value: 0.7704049099314524 and parameters: {'classifier': 'RandomForest', 'n_estimators': 770, 'max_depth': 42.21351692771908}. Best is trial 4 with value: 0.7785589032360912.\u001b[0m\n",
      "\u001b[32m[I 2021-11-08 12:49:58,651]\u001b[0m Trial 64 finished with value: 0.7655109198150805 and parameters: {'classifier': 'RandomForest', 'n_estimators': 940, 'max_depth': 13.189602698787107}. Best is trial 4 with value: 0.7785589032360912.\u001b[0m\n",
      "\u001b[32m[I 2021-11-08 12:50:07,529]\u001b[0m Trial 65 finished with value: 0.7687788936712897 and parameters: {'classifier': 'RandomForest', 'n_estimators': 1580, 'max_depth': 29.269445644532706}. Best is trial 4 with value: 0.7785589032360912.\u001b[0m\n",
      "\u001b[32m[I 2021-11-08 12:50:11,425]\u001b[0m Trial 66 finished with value: 0.7704208512673363 and parameters: {'classifier': 'RandomForest', 'n_estimators': 780, 'max_depth': 13.942117348531292}. Best is trial 4 with value: 0.7785589032360912.\u001b[0m\n",
      "\u001b[32m[I 2021-11-08 12:50:15,827]\u001b[0m Trial 67 finished with value: 0.7606408417025347 and parameters: {'classifier': 'RandomForest', 'n_estimators': 800, 'max_depth': 56.73232022679515}. Best is trial 4 with value: 0.7785589032360912.\u001b[0m\n",
      "\u001b[32m[I 2021-11-08 12:50:16,056]\u001b[0m Trial 68 finished with value: 0.6530926191614858 and parameters: {'classifier': 'SVC', 'svc_c': 1.0219362581149797e-07}. Best is trial 4 with value: 0.7785589032360912.\u001b[0m\n",
      "\u001b[32m[I 2021-11-08 12:50:19,261]\u001b[0m Trial 69 finished with value: 0.7655029491471385 and parameters: {'classifier': 'RandomForest', 'n_estimators': 590, 'max_depth': 42.534557339561005}. Best is trial 4 with value: 0.7785589032360912.\u001b[0m\n"
     ]
    },
    {
     "name": "stderr",
     "output_type": "stream",
     "text": [
      "\u001b[32m[I 2021-11-08 12:50:25,646]\u001b[0m Trial 70 finished with value: 0.7687948350071737 and parameters: {'classifier': 'RandomForest', 'n_estimators': 1150, 'max_depth': 11.007660243133806}. Best is trial 4 with value: 0.7785589032360912.\u001b[0m\n",
      "\u001b[32m[I 2021-11-08 12:50:31,575]\u001b[0m Trial 71 finished with value: 0.767144906743185 and parameters: {'classifier': 'RandomForest', 'n_estimators': 1040, 'max_depth': 34.49397514558973}. Best is trial 4 with value: 0.7785589032360912.\u001b[0m\n",
      "\u001b[32m[I 2021-11-08 12:50:34,962]\u001b[0m Trial 72 finished with value: 0.7638769328869759 and parameters: {'classifier': 'RandomForest', 'n_estimators': 690, 'max_depth': 15.367384582614934}. Best is trial 4 with value: 0.7785589032360912.\u001b[0m\n",
      "\u001b[32m[I 2021-11-08 12:50:39,469]\u001b[0m Trial 73 finished with value: 0.772030926191615 and parameters: {'classifier': 'RandomForest', 'n_estimators': 940, 'max_depth': 14.434163146046506}. Best is trial 4 with value: 0.7785589032360912.\u001b[0m\n",
      "\u001b[32m[I 2021-11-08 12:50:44,209]\u001b[0m Trial 74 finished with value: 0.772038896859557 and parameters: {'classifier': 'RandomForest', 'n_estimators': 960, 'max_depth': 18.182518118517272}. Best is trial 4 with value: 0.7785589032360912.\u001b[0m\n",
      "\u001b[32m[I 2021-11-08 12:50:48,741]\u001b[0m Trial 75 finished with value: 0.7655268611509646 and parameters: {'classifier': 'RandomForest', 'n_estimators': 920, 'max_depth': 14.002278172141128}. Best is trial 4 with value: 0.7785589032360912.\u001b[0m\n",
      "\u001b[32m[I 2021-11-08 12:50:53,562]\u001b[0m Trial 76 finished with value: 0.7671528774111271 and parameters: {'classifier': 'RandomForest', 'n_estimators': 980, 'max_depth': 18.405785296430793}. Best is trial 4 with value: 0.7785589032360912.\u001b[0m\n",
      "\u001b[32m[I 2021-11-08 12:50:57,572]\u001b[0m Trial 77 finished with value: 0.7752829587119402 and parameters: {'classifier': 'RandomForest', 'n_estimators': 820, 'max_depth': 21.2858723403969}. Best is trial 4 with value: 0.7785589032360912.\u001b[0m\n",
      "\u001b[32m[I 2021-11-08 12:51:01,469]\u001b[0m Trial 78 finished with value: 0.7671528774111271 and parameters: {'classifier': 'RandomForest', 'n_estimators': 830, 'max_depth': 21.435199924294338}. Best is trial 4 with value: 0.7785589032360912.\u001b[0m\n",
      "\u001b[32m[I 2021-11-08 12:51:01,581]\u001b[0m Trial 79 finished with value: 0.6530926191614858 and parameters: {'classifier': 'SVC', 'svc_c': 0.01595137022100536}. Best is trial 4 with value: 0.7785589032360912.\u001b[0m\n",
      "\u001b[32m[I 2021-11-08 12:51:05,480]\u001b[0m Trial 80 finished with value: 0.7704128805993943 and parameters: {'classifier': 'RandomForest', 'n_estimators': 700, 'max_depth': 17.897191164443402}. Best is trial 4 with value: 0.7785589032360912.\u001b[0m\n",
      "\u001b[32m[I 2021-11-08 12:51:10,121]\u001b[0m Trial 81 finished with value: 0.7639008448908019 and parameters: {'classifier': 'RandomForest', 'n_estimators': 980, 'max_depth': 16.065968739403488}. Best is trial 4 with value: 0.7785589032360912.\u001b[0m\n",
      "\u001b[32m[I 2021-11-08 12:51:13,562]\u001b[0m Trial 82 finished with value: 0.772030926191615 and parameters: {'classifier': 'RandomForest', 'n_estimators': 730, 'max_depth': 19.805616290876266}. Best is trial 4 with value: 0.7785589032360912.\u001b[0m\n",
      "\u001b[32m[I 2021-11-08 12:51:20,249]\u001b[0m Trial 83 finished with value: 0.7687788936712897 and parameters: {'classifier': 'RandomForest', 'n_estimators': 860, 'max_depth': 20.326875895721187}. Best is trial 4 with value: 0.7785589032360912.\u001b[0m\n",
      "\u001b[32m[I 2021-11-08 12:51:27,459]\u001b[0m Trial 84 finished with value: 0.7639008448908019 and parameters: {'classifier': 'RandomForest', 'n_estimators': 1080, 'max_depth': 22.97279278562731}. Best is trial 4 with value: 0.7785589032360912.\u001b[0m\n",
      "\u001b[32m[I 2021-11-08 12:51:31,204]\u001b[0m Trial 85 finished with value: 0.7704128805993943 and parameters: {'classifier': 'RandomForest', 'n_estimators': 710, 'max_depth': 17.107394914788436}. Best is trial 4 with value: 0.7785589032360912.\u001b[0m\n",
      "\u001b[32m[I 2021-11-08 12:51:36,163]\u001b[0m Trial 86 finished with value: 0.7704049099314524 and parameters: {'classifier': 'RandomForest', 'n_estimators': 900, 'max_depth': 19.515121661042553}. Best is trial 4 with value: 0.7785589032360912.\u001b[0m\n",
      "\u001b[32m[I 2021-11-08 12:51:41,955]\u001b[0m Trial 87 finished with value: 0.7687868643392317 and parameters: {'classifier': 'RandomForest', 'n_estimators': 750, 'max_depth': 27.67085666979028}. Best is trial 4 with value: 0.7785589032360912.\u001b[0m\n",
      "\u001b[32m[I 2021-11-08 12:51:48,901]\u001b[0m Trial 88 finished with value: 0.7638928742228598 and parameters: {'classifier': 'RandomForest', 'n_estimators': 1770, 'max_depth': 24.91652092495144}. Best is trial 4 with value: 0.7785589032360912.\u001b[0m\n",
      "\u001b[32m[I 2021-11-08 12:51:51,150]\u001b[0m Trial 89 finished with value: 0.7736489717838354 and parameters: {'classifier': 'RandomForest', 'n_estimators': 580, 'max_depth': 38.124981000725136}. Best is trial 4 with value: 0.7785589032360912.\u001b[0m\n",
      "\u001b[32m[I 2021-11-08 12:51:53,116]\u001b[0m Trial 90 finished with value: 0.7736489717838354 and parameters: {'classifier': 'RandomForest', 'n_estimators': 500, 'max_depth': 39.50751561694137}. Best is trial 4 with value: 0.7785589032360912.\u001b[0m\n",
      "\u001b[32m[I 2021-11-08 12:51:54,175]\u001b[0m Trial 91 finished with value: 0.7687709230033476 and parameters: {'classifier': 'RandomForest', 'n_estimators': 250, 'max_depth': 37.242857464369905}. Best is trial 4 with value: 0.7785589032360912.\u001b[0m\n",
      "\u001b[32m[I 2021-11-08 12:51:56,345]\u001b[0m Trial 92 finished with value: 0.767144906743185 and parameters: {'classifier': 'RandomForest', 'n_estimators': 540, 'max_depth': 44.88126318991453}. Best is trial 4 with value: 0.7785589032360912.\u001b[0m\n",
      "\u001b[32m[I 2021-11-08 12:51:58,170]\u001b[0m Trial 93 finished with value: 0.7573648971783835 and parameters: {'classifier': 'RandomForest', 'n_estimators': 480, 'max_depth': 39.67207731828119}. Best is trial 4 with value: 0.7785589032360912.\u001b[0m\n",
      "\u001b[32m[I 2021-11-08 12:51:59,621]\u001b[0m Trial 94 finished with value: 0.7639088155587439 and parameters: {'classifier': 'RandomForest', 'n_estimators': 380, 'max_depth': 39.82318461004209}. Best is trial 4 with value: 0.7785589032360912.\u001b[0m\n",
      "\u001b[32m[I 2021-11-08 12:52:01,512]\u001b[0m Trial 95 finished with value: 0.7655268611509646 and parameters: {'classifier': 'RandomForest', 'n_estimators': 550, 'max_depth': 35.539904591194365}. Best is trial 4 with value: 0.7785589032360912.\u001b[0m\n",
      "\u001b[32m[I 2021-11-08 12:52:02,846]\u001b[0m Trial 96 finished with value: 0.7557468515861628 and parameters: {'classifier': 'RandomForest', 'n_estimators': 390, 'max_depth': 31.447581853570192}. Best is trial 4 with value: 0.7785589032360912.\u001b[0m\n",
      "\u001b[32m[I 2021-11-08 12:52:02,955]\u001b[0m Trial 97 finished with value: 0.6530926191614858 and parameters: {'classifier': 'SVC', 'svc_c': 44914.070356958255}. Best is trial 4 with value: 0.7785589032360912.\u001b[0m\n",
      "\u001b[32m[I 2021-11-08 12:52:05,310]\u001b[0m Trial 98 finished with value: 0.7704208512673363 and parameters: {'classifier': 'RandomForest', 'n_estimators': 640, 'max_depth': 49.37557029284277}. Best is trial 4 with value: 0.7785589032360912.\u001b[0m\n",
      "\u001b[32m[I 2021-11-08 12:52:08,537]\u001b[0m Trial 99 finished with value: 0.772038896859557 and parameters: {'classifier': 'RandomForest', 'n_estimators': 840, 'max_depth': 46.223651962228914}. Best is trial 4 with value: 0.7785589032360912.\u001b[0m\n"
     ]
    },
    {
     "name": "stdout",
     "output_type": "stream",
     "text": [
      "Accuracy: 0.7785589032360912\n",
      "Best hyperparameters: {'classifier': 'RandomForest', 'n_estimators': 920, 'max_depth': 42.818421203225114}\n"
     ]
    }
   ],
   "source": [
    "study=optuna.create_study(direction='maximize')\n",
    "study.optimize(objective,n_trials=100)\n",
    "trial = study.best_trial\n",
    "print('Accuracy: {}'.format(trial.value))\n",
    "print(\"Best hyperparameters: {}\".format(trial.params))"
   ]
  },
  {
   "cell_type": "code",
   "execution_count": 93,
   "id": "266bd5f3",
   "metadata": {},
   "outputs": [],
   "source": [
    "#optuna.visualization.plot_contour(study,params=['n_estimators','max_depth'])"
   ]
  },
  {
   "cell_type": "code",
   "execution_count": 92,
   "id": "79ba423b",
   "metadata": {},
   "outputs": [
    {
     "data": {
      "text/plain": [
       "{'classifier': 'RandomForest',\n",
       " 'n_estimators': 920,\n",
       " 'max_depth': 42.818421203225114}"
      ]
     },
     "execution_count": 92,
     "metadata": {},
     "output_type": "execute_result"
    }
   ],
   "source": [
    "trial.params"
   ]
  },
  {
   "cell_type": "code",
   "execution_count": 94,
   "id": "e75393f6",
   "metadata": {},
   "outputs": [
    {
     "data": {
      "text/plain": [
       "{'classifier': 'RandomForest',\n",
       " 'n_estimators': 920,\n",
       " 'max_depth': 42.818421203225114}"
      ]
     },
     "execution_count": 94,
     "metadata": {},
     "output_type": "execute_result"
    }
   ],
   "source": [
    "study.best_params"
   ]
  },
  {
   "cell_type": "code",
   "execution_count": 97,
   "id": "da3f3694",
   "metadata": {},
   "outputs": [
    {
     "data": {
      "text/plain": [
       "RandomForestClassifier(max_depth=42.818421203225114, n_estimators=920)"
      ]
     },
     "execution_count": 97,
     "metadata": {},
     "output_type": "execute_result"
    }
   ],
   "source": [
    "rf=RandomForestClassifier(n_estimators=920,max_depth= 42.818421203225114)\n",
    "rf.fit(X_train,y_train)"
   ]
  },
  {
   "cell_type": "code",
   "execution_count": 98,
   "id": "4472ff0e",
   "metadata": {},
   "outputs": [
    {
     "name": "stdout",
     "output_type": "stream",
     "text": [
      "[[85 14]\n",
      " [23 32]]\n",
      "0.7597402597402597\n",
      "              precision    recall  f1-score   support\n",
      "\n",
      "           0       0.79      0.86      0.82        99\n",
      "           1       0.70      0.58      0.63        55\n",
      "\n",
      "    accuracy                           0.76       154\n",
      "   macro avg       0.74      0.72      0.73       154\n",
      "weighted avg       0.75      0.76      0.75       154\n",
      "\n"
     ]
    }
   ],
   "source": [
    "y_pred=rf.predict(X_test)\n",
    "print(confusion_matrix(y_test,y_pred))\n",
    "print(accuracy_score(y_test,y_pred))\n",
    "print(classification_report(y_test,y_pred))"
   ]
  },
  {
   "cell_type": "code",
   "execution_count": null,
   "id": "df47eebe",
   "metadata": {},
   "outputs": [],
   "source": []
  },
  {
   "cell_type": "code",
   "execution_count": null,
   "id": "c488ba59",
   "metadata": {},
   "outputs": [],
   "source": []
  }
 ],
 "metadata": {
  "kernelspec": {
   "display_name": "Python 3",
   "language": "python",
   "name": "python3"
  },
  "language_info": {
   "codemirror_mode": {
    "name": "ipython",
    "version": 3
   },
   "file_extension": ".py",
   "mimetype": "text/x-python",
   "name": "python",
   "nbconvert_exporter": "python",
   "pygments_lexer": "ipython3",
   "version": "3.8.8"
  }
 },
 "nbformat": 4,
 "nbformat_minor": 5
}
